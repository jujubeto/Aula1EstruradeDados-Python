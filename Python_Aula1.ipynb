{
  "nbformat": 4,
  "nbformat_minor": 0,
  "metadata": {
    "colab": {
      "provenance": [],
      "toc_visible": true
    },
    "kernelspec": {
      "name": "python3",
      "display_name": "Python 3"
    },
    "language_info": {
      "name": "python"
    }
  },
  "cells": [
    {
      "cell_type": "markdown",
      "source": [
        "Python-Aula1"
      ],
      "metadata": {
        "id": "1zxIOeYrKG-y"
      }
    },
    {
      "cell_type": "code",
      "source": [
        "print('Ola, mundo!')"
      ],
      "metadata": {
        "colab": {
          "base_uri": "https://localhost:8080/"
        },
        "id": "YUeQd_2lKHk4",
        "outputId": "5d9fc0f0-9285-46fc-93ef-0aac7c764508"
      },
      "execution_count": 1,
      "outputs": [
        {
          "output_type": "stream",
          "name": "stdout",
          "text": [
            "Ola, mundo!\n"
          ]
        }
      ]
    },
    {
      "cell_type": "code",
      "source": [
        "print(9+9)"
      ],
      "metadata": {
        "colab": {
          "base_uri": "https://localhost:8080/"
        },
        "id": "emIq11XVKXPy",
        "outputId": "ce60ef60-a713-45b4-9072-594ec389e903"
      },
      "execution_count": 2,
      "outputs": [
        {
          "output_type": "stream",
          "name": "stdout",
          "text": [
            "18\n"
          ]
        }
      ]
    },
    {
      "cell_type": "code",
      "source": [
        "print(8 - 2)\n",
        "print(5 * 6)\n",
        "print(12 / 2)"
      ],
      "metadata": {
        "colab": {
          "base_uri": "https://localhost:8080/"
        },
        "id": "HPtfW4uTKcMg",
        "outputId": "c24f5a8f-e831-4794-e73c-5b4dd2537d29"
      },
      "execution_count": 3,
      "outputs": [
        {
          "output_type": "stream",
          "name": "stdout",
          "text": [
            "6\n",
            "30\n",
            "6.0\n"
          ]
        }
      ]
    },
    {
      "cell_type": "code",
      "source": [
        "print('Rita' * 5)"
      ],
      "metadata": {
        "colab": {
          "base_uri": "https://localhost:8080/"
        },
        "id": "5Jy0smUTLAyT",
        "outputId": "ec8e16ee-971b-406f-8106-e7f62c66c619"
      },
      "execution_count": 4,
      "outputs": [
        {
          "output_type": "stream",
          "name": "stdout",
          "text": [
            "RitaRitaRitaRitaRita\n"
          ]
        }
      ]
    },
    {
      "cell_type": "code",
      "source": [
        "print('5' * 10)"
      ],
      "metadata": {
        "colab": {
          "base_uri": "https://localhost:8080/"
        },
        "id": "suy7DEWyLQSP",
        "outputId": "5eb7d277-e216-40b3-bda5-69df1fd355a0"
      },
      "execution_count": 5,
      "outputs": [
        {
          "output_type": "stream",
          "name": "stdout",
          "text": [
            "5555555555\n"
          ]
        }
      ]
    },
    {
      "cell_type": "code",
      "source": [
        "print('Parabéns para você', end = ' ') #end= impede a quebra de linha que seria para a frase!\n",
        "print('nesta data querida')"
      ],
      "metadata": {
        "colab": {
          "base_uri": "https://localhost:8080/"
        },
        "id": "S8YozwgVLUlf",
        "outputId": "f15200f5-7d72-4f82-a19d-967ec19ebb14"
      },
      "execution_count": 6,
      "outputs": [
        {
          "output_type": "stream",
          "name": "stdout",
          "text": [
            "Parabéns para você nesta data querida\n"
          ]
        }
      ]
    },
    {
      "cell_type": "code",
      "source": [
        "print(9 + 1)"
      ],
      "metadata": {
        "colab": {
          "base_uri": "https://localhost:8080/"
        },
        "id": "_Uwlf3dTNV9z",
        "outputId": "a73a6f65-1220-4173-bbf6-35d89fb61156"
      },
      "execution_count": 7,
      "outputs": [
        {
          "output_type": "stream",
          "name": "stdout",
          "text": [
            "10\n"
          ]
        }
      ]
    },
    {
      "cell_type": "code",
      "source": [
        "print('9 + 1')"
      ],
      "metadata": {
        "colab": {
          "base_uri": "https://localhost:8080/"
        },
        "id": "urG8anFWNbYD",
        "outputId": "009dcdae-7f41-4005-d7ef-eff99f20c5b6"
      },
      "execution_count": 8,
      "outputs": [
        {
          "output_type": "stream",
          "name": "stdout",
          "text": [
            "9 + 1\n"
          ]
        }
      ]
    },
    {
      "cell_type": "code",
      "source": [
        "print('A soma é: ', 10)"
      ],
      "metadata": {
        "colab": {
          "base_uri": "https://localhost:8080/"
        },
        "id": "QaQtDJHFNfvz",
        "outputId": "cd6c78da-df25-4008-db64-597d8a7da02d"
      },
      "execution_count": 9,
      "outputs": [
        {
          "output_type": "stream",
          "name": "stdout",
          "text": [
            "A soma é:  10\n"
          ]
        }
      ]
    },
    {
      "cell_type": "code",
      "source": [
        "print('A soma é: ' + '10')"
      ],
      "metadata": {
        "colab": {
          "base_uri": "https://localhost:8080/"
        },
        "id": "R2o9PJiVNldH",
        "outputId": "ab389fe1-b34e-4222-f83f-8f5035399852"
      },
      "execution_count": 12,
      "outputs": [
        {
          "output_type": "stream",
          "name": "stdout",
          "text": [
            "A soma é: 10\n"
          ]
        }
      ]
    },
    {
      "cell_type": "code",
      "source": [
        "a = 10\n",
        "print(a)"
      ],
      "metadata": {
        "colab": {
          "base_uri": "https://localhost:8080/"
        },
        "id": "skO7jxLYNvc3",
        "outputId": "e99b3972-09ab-4c3c-cfa6-43ae0aea569e"
      },
      "execution_count": 13,
      "outputs": [
        {
          "output_type": "stream",
          "name": "stdout",
          "text": [
            "10\n"
          ]
        }
      ]
    },
    {
      "cell_type": "code",
      "source": [
        "a = 10\n",
        "print(a * 5)"
      ],
      "metadata": {
        "colab": {
          "base_uri": "https://localhost:8080/"
        },
        "id": "VRm6kaosNz2W",
        "outputId": "749228e3-f64f-4e86-8d62-42d3235e9222"
      },
      "execution_count": 14,
      "outputs": [
        {
          "output_type": "stream",
          "name": "stdout",
          "text": [
            "50\n"
          ]
        }
      ]
    },
    {
      "cell_type": "code",
      "source": [
        "a = 10\n",
        "b = 15\n",
        "print(a + b)"
      ],
      "metadata": {
        "colab": {
          "base_uri": "https://localhost:8080/"
        },
        "id": "_qmsqaFmN6Lq",
        "outputId": "51774be5-8d8e-4dbe-8ca2-031b61edc9b5"
      },
      "execution_count": 15,
      "outputs": [
        {
          "output_type": "stream",
          "name": "stdout",
          "text": [
            "25\n"
          ]
        }
      ]
    },
    {
      "cell_type": "code",
      "source": [
        "print('O resultado da soma é: ', (a + b))"
      ],
      "metadata": {
        "colab": {
          "base_uri": "https://localhost:8080/"
        },
        "id": "B68vSsL3OtNO",
        "outputId": "5defd69c-d745-48c3-a4e3-900ef45b2c84"
      },
      "execution_count": 16,
      "outputs": [
        {
          "output_type": "stream",
          "name": "stdout",
          "text": [
            "O resultado da soma é:  25\n"
          ]
        }
      ]
    },
    {
      "cell_type": "code",
      "source": [
        "5 + 4 "
      ],
      "metadata": {
        "colab": {
          "base_uri": "https://localhost:8080/"
        },
        "id": "NWMqBRBSO9JI",
        "outputId": "be4dc84c-9414-4de2-8040-c353730ce7d3"
      },
      "execution_count": 17,
      "outputs": [
        {
          "output_type": "execute_result",
          "data": {
            "text/plain": [
              "9"
            ]
          },
          "metadata": {},
          "execution_count": 17
        }
      ]
    },
    {
      "cell_type": "code",
      "source": [
        "print(8 - 7)\n",
        "print(10 * 2)\n",
        "print(10 / 2)"
      ],
      "metadata": {
        "colab": {
          "base_uri": "https://localhost:8080/"
        },
        "id": "bM_esF8RPArN",
        "outputId": "60f23943-6a8d-4d08-9db5-5d9934aa5c8d"
      },
      "execution_count": 18,
      "outputs": [
        {
          "output_type": "stream",
          "name": "stdout",
          "text": [
            "1\n",
            "20\n",
            "5.0\n"
          ]
        }
      ]
    },
    {
      "cell_type": "code",
      "source": [
        "print(10 // 2) #imprime somente a parte inteira da divisão"
      ],
      "metadata": {
        "colab": {
          "base_uri": "https://localhost:8080/"
        },
        "id": "RfvU4Z1iPJum",
        "outputId": "5f2f1ed9-97e9-4ffb-a8a6-bdb6b8aa0739"
      },
      "execution_count": 19,
      "outputs": [
        {
          "output_type": "stream",
          "name": "stdout",
          "text": [
            "5\n"
          ]
        }
      ]
    },
    {
      "cell_type": "code",
      "source": [
        "print(5 / 2)\n",
        "print(5 // 2)"
      ],
      "metadata": {
        "colab": {
          "base_uri": "https://localhost:8080/"
        },
        "id": "RsiqOq4TPVdU",
        "outputId": "48335dcd-16e3-43b4-dd32-5259ac523b5e"
      },
      "execution_count": 20,
      "outputs": [
        {
          "output_type": "stream",
          "name": "stdout",
          "text": [
            "2.5\n",
            "2\n"
          ]
        }
      ]
    },
    {
      "cell_type": "markdown",
      "source": [
        "Testar se um numero é Par\n",
        "Divida o Número por 2, se o resto for zero, Entao o número é par. Para Executar comando use o Símbolo de % (Modulo ou mod)."
      ],
      "metadata": {
        "id": "5B4BQc73PdQU"
      }
    },
    {
      "cell_type": "code",
      "source": [
        "print(4 % 2)"
      ],
      "metadata": {
        "colab": {
          "base_uri": "https://localhost:8080/"
        },
        "id": "VG1LKWdbP1Ek",
        "outputId": "0bc8bed9-4fa0-488a-ff81-b7353e233349"
      },
      "execution_count": 21,
      "outputs": [
        {
          "output_type": "stream",
          "name": "stdout",
          "text": [
            "0\n"
          ]
        }
      ]
    },
    {
      "cell_type": "code",
      "source": [
        "print(5 % 2)"
      ],
      "metadata": {
        "colab": {
          "base_uri": "https://localhost:8080/"
        },
        "id": "1vi6U1n_P6rU",
        "outputId": "f2fd1f2c-8b2d-4e1a-95c0-41005347fa4e"
      },
      "execution_count": 22,
      "outputs": [
        {
          "output_type": "stream",
          "name": "stdout",
          "text": [
            "1\n"
          ]
        }
      ]
    },
    {
      "cell_type": "code",
      "source": [
        "num = 10\n",
        "print(num % 2)"
      ],
      "metadata": {
        "colab": {
          "base_uri": "https://localhost:8080/"
        },
        "id": "e00Pa5GcQzrn",
        "outputId": "bea12768-2a03-46e9-b376-73a1c2c9d5b4"
      },
      "execution_count": 23,
      "outputs": [
        {
          "output_type": "stream",
          "name": "stdout",
          "text": [
            "0\n"
          ]
        }
      ]
    },
    {
      "cell_type": "code",
      "source": [
        "print(2**2)"
      ],
      "metadata": {
        "colab": {
          "base_uri": "https://localhost:8080/"
        },
        "id": "c9nWEcZxRMa3",
        "outputId": "608e3ac4-b960-40be-f372-63c819c72537"
      },
      "execution_count": 24,
      "outputs": [
        {
          "output_type": "stream",
          "name": "stdout",
          "text": [
            "4\n"
          ]
        }
      ]
    },
    {
      "cell_type": "code",
      "source": [
        "print(5**2)"
      ],
      "metadata": {
        "colab": {
          "base_uri": "https://localhost:8080/"
        },
        "id": "eH7ZOjZCRSjZ",
        "outputId": "eb89162b-7578-4fec-e8ee-2bf928f99bc0"
      },
      "execution_count": 25,
      "outputs": [
        {
          "output_type": "stream",
          "name": "stdout",
          "text": [
            "25\n"
          ]
        }
      ]
    },
    {
      "cell_type": "code",
      "source": [
        "print(5 + 7 * 2)"
      ],
      "metadata": {
        "colab": {
          "base_uri": "https://localhost:8080/"
        },
        "id": "imi_WlqqRUi1",
        "outputId": "f5272f1b-4785-49eb-d911-7a8e20f88f91"
      },
      "execution_count": 26,
      "outputs": [
        {
          "output_type": "stream",
          "name": "stdout",
          "text": [
            "19\n"
          ]
        }
      ]
    },
    {
      "cell_type": "code",
      "source": [
        "print(5 + 7 * 2 - 5**2)"
      ],
      "metadata": {
        "colab": {
          "base_uri": "https://localhost:8080/"
        },
        "id": "oEcLNpLURY_F",
        "outputId": "3f876d9f-289b-4bc5-b5ed-1fad6e2434e9"
      },
      "execution_count": 27,
      "outputs": [
        {
          "output_type": "stream",
          "name": "stdout",
          "text": [
            "-6\n"
          ]
        }
      ]
    },
    {
      "cell_type": "code",
      "source": [
        "nota1 = 7.5\n",
        "nota2 = 8.0\n",
        "nota3 = 4.5\n",
        "media = (nota1 + nota2 + nota3)/3\n",
        "print(media)"
      ],
      "metadata": {
        "colab": {
          "base_uri": "https://localhost:8080/"
        },
        "id": "_w4aGEEkRl-2",
        "outputId": "43795e91-57a1-4a6a-bec4-62c423401792"
      },
      "execution_count": 28,
      "outputs": [
        {
          "output_type": "stream",
          "name": "stdout",
          "text": [
            "6.666666666666667\n"
          ]
        }
      ]
    },
    {
      "cell_type": "code",
      "source": [
        "print(round(media, 2)) # Função round arredonda as casas decimais pelo numero definido"
      ],
      "metadata": {
        "colab": {
          "base_uri": "https://localhost:8080/"
        },
        "id": "enqdcSvoSRcR",
        "outputId": "11c923a3-59c7-4ce9-a76c-27cfb9fc430d"
      },
      "execution_count": 29,
      "outputs": [
        {
          "output_type": "stream",
          "name": "stdout",
          "text": [
            "6.67\n"
          ]
        }
      ]
    },
    {
      "cell_type": "code",
      "source": [
        "print(round(media, 1))"
      ],
      "metadata": {
        "colab": {
          "base_uri": "https://localhost:8080/"
        },
        "id": "GWzFBsBRSVX-",
        "outputId": "07e9820d-cd46-45e9-f71a-c73f7c97c7d7"
      },
      "execution_count": 30,
      "outputs": [
        {
          "output_type": "stream",
          "name": "stdout",
          "text": [
            "6.7\n"
          ]
        }
      ]
    },
    {
      "cell_type": "markdown",
      "source": [
        "TRABALHANDO COM VARIÁVEIS \n",
        "\n",
        "TIPOS DE VARIÁVEIS:\n",
        "* int = inteiro\n",
        "* float = decimal\n",
        "* str = string(texto)\n",
        "* boolean = Lógico\n",
        "\n",
        "PARA CRIAR NOMES DE VARIÁVEIS:\n",
        "\n",
        "* começar com letras e não com números\n",
        "* não conter espaços em branco\n",
        "* preferencialmente com letras minúsculas"
      ],
      "metadata": {
        "id": "iBIjbuKTS0BX"
      }
    },
    {
      "cell_type": "code",
      "source": [
        "nome = 'Rita'\n",
        "print(nome)"
      ],
      "metadata": {
        "colab": {
          "base_uri": "https://localhost:8080/"
        },
        "id": "Ztjzh2IzTldT",
        "outputId": "343197d5-a282-4b55-df4a-92af867e9daa"
      },
      "execution_count": 31,
      "outputs": [
        {
          "output_type": "stream",
          "name": "stdout",
          "text": [
            "Rita\n"
          ]
        }
      ]
    },
    {
      "cell_type": "code",
      "source": [
        "nome = 'Lucas'\n",
        "print(nome)"
      ],
      "metadata": {
        "colab": {
          "base_uri": "https://localhost:8080/"
        },
        "id": "B72r6ngETt9-",
        "outputId": "8ed4bdd4-e6aa-4e6e-bafe-3d199ec39f1b"
      },
      "execution_count": 33,
      "outputs": [
        {
          "output_type": "stream",
          "name": "stdout",
          "text": [
            "Lucas\n"
          ]
        }
      ]
    },
    {
      "cell_type": "code",
      "source": [
        "nome_da_pessoa = ('Rota Cassino')\n",
        "print(nome_da_pessoa)"
      ],
      "metadata": {
        "colab": {
          "base_uri": "https://localhost:8080/"
        },
        "id": "PWCQAvtqTySV",
        "outputId": "3dd3e873-30ed-4ce9-fa96-734485956541"
      },
      "execution_count": 34,
      "outputs": [
        {
          "output_type": "stream",
          "name": "stdout",
          "text": [
            "Rota Cassino\n"
          ]
        }
      ]
    },
    {
      "cell_type": "code",
      "source": [
        "Nome = 'Guga' #aceita, mas não é uma boa prática.\n",
        "print(Nome)"
      ],
      "metadata": {
        "colab": {
          "base_uri": "https://localhost:8080/"
        },
        "id": "WAsIXIIGUBDN",
        "outputId": "22395124-4b48-4cf8-dad6-b54fab584785"
      },
      "execution_count": 35,
      "outputs": [
        {
          "output_type": "stream",
          "name": "stdout",
          "text": [
            "Guga\n"
          ]
        }
      ]
    },
    {
      "cell_type": "code",
      "source": [
        "numero = 10 #Python já conhece que a variáve é inteira\n",
        "print(numero)"
      ],
      "metadata": {
        "colab": {
          "base_uri": "https://localhost:8080/"
        },
        "id": "th8K-vo-URju",
        "outputId": "6ea56e20-7ba0-4537-84ec-53a53080fd62"
      },
      "execution_count": 36,
      "outputs": [
        {
          "output_type": "stream",
          "name": "stdout",
          "text": [
            "10\n"
          ]
        }
      ]
    },
    {
      "cell_type": "code",
      "source": [
        "nome = 'Mara' #Python já reconhece que a variável á texto (atr)\n",
        "print(nome)"
      ],
      "metadata": {
        "colab": {
          "base_uri": "https://localhost:8080/"
        },
        "id": "ab2sDhlXVF6d",
        "outputId": "65268080-aeed-425a-b828-51f59ea2226f"
      },
      "execution_count": 37,
      "outputs": [
        {
          "output_type": "stream",
          "name": "stdout",
          "text": [
            "Mara\n"
          ]
        }
      ]
    },
    {
      "cell_type": "code",
      "source": [
        "type(numero)"
      ],
      "metadata": {
        "colab": {
          "base_uri": "https://localhost:8080/"
        },
        "id": "DgQlH8avVSTV",
        "outputId": "002e0386-0a10-495a-8521-384706e4a5f4"
      },
      "execution_count": 38,
      "outputs": [
        {
          "output_type": "execute_result",
          "data": {
            "text/plain": [
              "int"
            ]
          },
          "metadata": {},
          "execution_count": 38
        }
      ]
    },
    {
      "cell_type": "code",
      "source": [
        "type(nome)"
      ],
      "metadata": {
        "colab": {
          "base_uri": "https://localhost:8080/"
        },
        "id": "goagoieCVWuN",
        "outputId": "31054649-fa86-4cdb-a8a7-95a76e026e1e"
      },
      "execution_count": 39,
      "outputs": [
        {
          "output_type": "execute_result",
          "data": {
            "text/plain": [
              "str"
            ]
          },
          "metadata": {},
          "execution_count": 39
        }
      ]
    },
    {
      "cell_type": "code",
      "source": [
        "nota = 6.5\n",
        "type(nota)"
      ],
      "metadata": {
        "colab": {
          "base_uri": "https://localhost:8080/"
        },
        "id": "SGH9fWzAVZRG",
        "outputId": "eb0d4598-f014-4be0-e9cb-425387dd0987"
      },
      "execution_count": 40,
      "outputs": [
        {
          "output_type": "execute_result",
          "data": {
            "text/plain": [
              "float"
            ]
          },
          "metadata": {},
          "execution_count": 40
        }
      ]
    },
    {
      "cell_type": "code",
      "source": [
        "a = 3\n",
        "b = 4\n",
        "c = a < b # c recebe o valor da comparação a < b\n",
        "d = a > b # d recebe o valor da comparação a > b \n",
        "e = a == b # e recebe o valor da comparação a == b\n",
        "\n",
        "print(\"Valor de c: \", c)\n",
        "print(\"Valor de d: \", d)\n",
        "print(\"Valor de e \", e)"
      ],
      "metadata": {
        "colab": {
          "base_uri": "https://localhost:8080/"
        },
        "id": "skoPnGOxVdwd",
        "outputId": "bbd26c32-e4b2-445a-a947-71d2df07a486"
      },
      "execution_count": 41,
      "outputs": [
        {
          "output_type": "stream",
          "name": "stdout",
          "text": [
            "Valor de c:  True\n",
            "Valor de d:  False\n",
            "Valor de e  False\n"
          ]
        }
      ]
    },
    {
      "cell_type": "code",
      "source": [
        "nome = 'rita'\n",
        "caixa_alta = nome.upper()\n",
        "print(caixa_alta)"
      ],
      "metadata": {
        "colab": {
          "base_uri": "https://localhost:8080/"
        },
        "id": "BM8vWsLnqckj",
        "outputId": "6d65ca80-763c-4b5b-a639-fbad22b39a59"
      },
      "execution_count": 42,
      "outputs": [
        {
          "output_type": "stream",
          "name": "stdout",
          "text": [
            "RITA\n"
          ]
        }
      ]
    },
    {
      "cell_type": "code",
      "source": [
        "primeira_letra_maiuscula = nome.capitalize()\n",
        "print(primeira_letra_maiuscula)"
      ],
      "metadata": {
        "colab": {
          "base_uri": "https://localhost:8080/"
        },
        "id": "g-ISnBcdsZsB",
        "outputId": "d1f580bd-4ab4-4e6f-8b9c-fd5ecf7c30cd"
      },
      "execution_count": 43,
      "outputs": [
        {
          "output_type": "stream",
          "name": "stdout",
          "text": [
            "Rita\n"
          ]
        }
      ]
    },
    {
      "cell_type": "code",
      "source": [
        "minuscula = nome.lower()\n",
        "print(minuscula)"
      ],
      "metadata": {
        "colab": {
          "base_uri": "https://localhost:8080/"
        },
        "id": "njRu1Mrpsx3u",
        "outputId": "d61dacbc-045a-42a9-aa8b-67e7569cc5f4"
      },
      "execution_count": 44,
      "outputs": [
        {
          "output_type": "stream",
          "name": "stdout",
          "text": [
            "rita\n"
          ]
        }
      ]
    },
    {
      "cell_type": "markdown",
      "source": [
        "COMANDO INPUT - ENTRADA DE DADOS"
      ],
      "metadata": {
        "id": "R3MF7gIavVUD"
      }
    },
    {
      "cell_type": "code",
      "source": [
        "input('Qual seu nome: ')"
      ],
      "metadata": {
        "colab": {
          "base_uri": "https://localhost:8080/",
          "height": 53
        },
        "id": "SMU3kRO2s67e",
        "outputId": "fbadcef6-f875-429d-f705-59147e4de522"
      },
      "execution_count": 45,
      "outputs": [
        {
          "name": "stdout",
          "output_type": "stream",
          "text": [
            "Qual seu nome: jubeto\n"
          ]
        },
        {
          "output_type": "execute_result",
          "data": {
            "text/plain": [
              "'jubeto'"
            ],
            "application/vnd.google.colaboratory.intrinsic+json": {
              "type": "string"
            }
          },
          "metadata": {},
          "execution_count": 45
        }
      ]
    },
    {
      "cell_type": "code",
      "source": [
        "nome = input('Qual o seu nome? ')\n",
        "print(nome)"
      ],
      "metadata": {
        "colab": {
          "base_uri": "https://localhost:8080/"
        },
        "id": "3VXnvjRHvgCV",
        "outputId": "a8c3e4f9-5c31-4c06-b1f3-c1bb741da313"
      },
      "execution_count": 46,
      "outputs": [
        {
          "output_type": "stream",
          "name": "stdout",
          "text": [
            "Qual o seu nome? jubeto\n",
            "jubeto\n"
          ]
        }
      ]
    },
    {
      "cell_type": "code",
      "source": [
        "nome = input(\"Qual o seu nome? \")\n",
        "print('Seu nome é: '+ nome)"
      ],
      "metadata": {
        "colab": {
          "base_uri": "https://localhost:8080/"
        },
        "id": "W2VWfwm9vqDe",
        "outputId": "f7a344c7-c53e-43fb-a6fa-f66f4e6cf032"
      },
      "execution_count": 47,
      "outputs": [
        {
          "output_type": "stream",
          "name": "stdout",
          "text": [
            "Qual o seu nome? jubeto\n",
            "Seu nome é: jubeto\n"
          ]
        }
      ]
    },
    {
      "cell_type": "code",
      "source": [
        "nome = input('Digite seu nome: ')\n",
        "idade = input('Digite sua idade: ')\n",
        "estado = input('Digite seu estado: ')\n",
        "\n",
        "print('Seu nome é ' + nome + ', tem ' + idade + ', anos e é de ' + estado + '.')"
      ],
      "metadata": {
        "colab": {
          "base_uri": "https://localhost:8080/"
        },
        "id": "PtyrY9Osv4rV",
        "outputId": "0a7d8f33-4e63-4554-901a-73b316ff6038"
      },
      "execution_count": 48,
      "outputs": [
        {
          "output_type": "stream",
          "name": "stdout",
          "text": [
            "Digite seu nome: jubeto\n",
            "Digite sua idade: 19\n",
            "Digite seu estado: sp\n",
            "Seu nome é jubeto, tem 19, anos e é de sp.\n"
          ]
        }
      ]
    },
    {
      "cell_type": "code",
      "source": [
        "idade = input('Digite a idade: ')\n",
        "print(idade * 2)\n",
        "type(idade)"
      ],
      "metadata": {
        "colab": {
          "base_uri": "https://localhost:8080/"
        },
        "id": "LD91k83vwY6V",
        "outputId": "b8b45923-2e96-4961-a7a8-cdc8c05875ea"
      },
      "execution_count": 49,
      "outputs": [
        {
          "output_type": "stream",
          "name": "stdout",
          "text": [
            "Digite a idade: 19\n",
            "1919\n"
          ]
        },
        {
          "output_type": "execute_result",
          "data": {
            "text/plain": [
              "str"
            ]
          },
          "metadata": {},
          "execution_count": 49
        }
      ]
    },
    {
      "cell_type": "code",
      "source": [
        "idade = int(input('Digite sua idade: '))\n",
        "print(idade * 2)\n",
        "type(idade)"
      ],
      "metadata": {
        "colab": {
          "base_uri": "https://localhost:8080/"
        },
        "id": "TqMIrWhPw_63",
        "outputId": "cfc92926-f5c8-4c78-eb34-16e53efd178d"
      },
      "execution_count": 50,
      "outputs": [
        {
          "output_type": "stream",
          "name": "stdout",
          "text": [
            "Digite sua idade: 19\n",
            "38\n"
          ]
        },
        {
          "output_type": "execute_result",
          "data": {
            "text/plain": [
              "int"
            ]
          },
          "metadata": {},
          "execution_count": 50
        }
      ]
    },
    {
      "cell_type": "code",
      "source": [
        "nota1 = float(input('Nota1: '))\n",
        "nota2 = float(input('Nota2: '))\n",
        "nota3 = float(input('Nota3: '))\n",
        "\n",
        "media = (nota1 + nota2 + nota3)/3\n",
        "print(round(media,2))"
      ],
      "metadata": {
        "colab": {
          "base_uri": "https://localhost:8080/"
        },
        "id": "f8900WSsxPx1",
        "outputId": "8a526cc2-149a-477b-90ba-6cdb77757cd8"
      },
      "execution_count": 53,
      "outputs": [
        {
          "output_type": "stream",
          "name": "stdout",
          "text": [
            "Nota1: 9\n",
            "Nota2: 8\n",
            "Nota3: 9\n",
            "8.67\n"
          ]
        }
      ]
    },
    {
      "cell_type": "code",
      "source": [
        "nome = 'Gilberto'\n",
        "print(nome)"
      ],
      "metadata": {
        "colab": {
          "base_uri": "https://localhost:8080/"
        },
        "id": "cmvM0SdkxiuF",
        "outputId": "2c30f2ee-33b6-4447-b108-363a3ea0613e"
      },
      "execution_count": 54,
      "outputs": [
        {
          "output_type": "stream",
          "name": "stdout",
          "text": [
            "Gilberto\n"
          ]
        }
      ]
    },
    {
      "cell_type": "code",
      "source": [
        "print('Meu nome é ' + nome)"
      ],
      "metadata": {
        "colab": {
          "base_uri": "https://localhost:8080/"
        },
        "id": "698mwhxPy2Ul",
        "outputId": "228d907e-4e5d-49a6-939d-716198d52c4b"
      },
      "execution_count": 55,
      "outputs": [
        {
          "output_type": "stream",
          "name": "stdout",
          "text": [
            "Meu nome é Gilberto\n"
          ]
        }
      ]
    },
    {
      "cell_type": "code",
      "source": [
        "print(f'Meu nome é {nome}')"
      ],
      "metadata": {
        "colab": {
          "base_uri": "https://localhost:8080/"
        },
        "id": "GTLX8YFQy7b2",
        "outputId": "348a3e91-7208-42b2-c400-2b634ee77682"
      },
      "execution_count": 57,
      "outputs": [
        {
          "output_type": "stream",
          "name": "stdout",
          "text": [
            "Meu nome é Gilberto\n"
          ]
        }
      ]
    },
    {
      "cell_type": "code",
      "source": [
        "cor = 'azul'\n",
        "idade = 18\n",
        "print(f'Minha cor favorita é {cor} e minha idade é {idade} anos.')"
      ],
      "metadata": {
        "colab": {
          "base_uri": "https://localhost:8080/"
        },
        "id": "faDsMvf6zAru",
        "outputId": "1827d2ce-0ca0-4136-bc0c-3fed5c59ef26"
      },
      "execution_count": 58,
      "outputs": [
        {
          "output_type": "stream",
          "name": "stdout",
          "text": [
            "Minha cor favorita é azul e minha idade é 18 anos.\n"
          ]
        }
      ]
    },
    {
      "cell_type": "code",
      "source": [
        "num1 = 10\n",
        "num2 = 2\n",
        "print(f'A soma de{num1} + {num2} = {num1 + num2}')"
      ],
      "metadata": {
        "colab": {
          "base_uri": "https://localhost:8080/"
        },
        "id": "TF0NdZKezSfj",
        "outputId": "75deda04-8cbe-40ad-c57d-19a7926ff083"
      },
      "execution_count": 59,
      "outputs": [
        {
          "output_type": "stream",
          "name": "stdout",
          "text": [
            "A soma de10 + 2 = 12\n"
          ]
        }
      ]
    },
    {
      "cell_type": "markdown",
      "source": [
        "COMANDO DE DECISÃO - IF\n",
        "\n",
        "ESTRUTURA DO COMANDO IF\n",
        "\n",
        "if <condição>:\n",
        "    execução de a condição for VERDADEIRA\n",
        "senao:\n",
        "    execute se a condição for FALSA"
      ],
      "metadata": {
        "id": "E-cg85Sb19Yt"
      }
    },
    {
      "cell_type": "code",
      "source": [
        "a = 10\n",
        "\n",
        "if a == 20:\n",
        "  print('chocolate')\n",
        "else:\n",
        "  print('Gelatina')  \n"
      ],
      "metadata": {
        "colab": {
          "base_uri": "https://localhost:8080/"
        },
        "id": "QyEB83Kv15h8",
        "outputId": "ec0884c9-f327-4177-8596-f140dc435070"
      },
      "execution_count": 60,
      "outputs": [
        {
          "output_type": "stream",
          "name": "stdout",
          "text": [
            "Gelatina\n"
          ]
        }
      ]
    },
    {
      "cell_type": "code",
      "source": [
        "a = 5\n",
        "\n",
        "if a > 5:\n",
        "  print('cachorro')\n",
        "else:\n",
        "  print('Papagaio')"
      ],
      "metadata": {
        "colab": {
          "base_uri": "https://localhost:8080/"
        },
        "id": "7xNXYtOt2c2S",
        "outputId": "e2aa571d-052d-40c8-a535-8784c71770ab"
      },
      "execution_count": 61,
      "outputs": [
        {
          "output_type": "stream",
          "name": "stdout",
          "text": [
            "Papagaio\n"
          ]
        }
      ]
    },
    {
      "cell_type": "code",
      "source": [
        "if a != 5:\n",
        "  print('chocolate')\n",
        "else:\n",
        "  print('papagaio')  "
      ],
      "metadata": {
        "colab": {
          "base_uri": "https://localhost:8080/"
        },
        "id": "A40hzNXr2sRE",
        "outputId": "245959d2-7795-48b2-9c7b-73843f361eb7"
      },
      "execution_count": 62,
      "outputs": [
        {
          "output_type": "stream",
          "name": "stdout",
          "text": [
            "papagaio\n"
          ]
        }
      ]
    },
    {
      "cell_type": "code",
      "source": [
        "idade = 15 \n",
        "if idade >= 18:\n",
        "  print('Você é maior de idade')\n",
        "else:\n",
        "  print('Você é menor de idade')"
      ],
      "metadata": {
        "colab": {
          "base_uri": "https://localhost:8080/"
        },
        "id": "h64_awMr21tE",
        "outputId": "aa1e705d-f323-4186-c09f-7fb71d9b73bb"
      },
      "execution_count": 63,
      "outputs": [
        {
          "output_type": "stream",
          "name": "stdout",
          "text": [
            "Você é menor de idade\n"
          ]
        }
      ]
    },
    {
      "cell_type": "markdown",
      "source": [
        "SE IDADE FOR MENOR OU IGUAL A 18 = ADOLESCENTE\n",
        "SE IDADE FOR MAIOR OU IGAUL A 65 = IDOSO\n",
        "SE IDADE ENTRE 18 E 65 = ADULTO"
      ],
      "metadata": {
        "id": "CO54tq8S3LZ9"
      }
    },
    {
      "cell_type": "code",
      "source": [
        "idade = 28\n",
        "\n",
        "if idade <= 18:\n",
        "  print('ADOLESCENTE')\n",
        "elif idade >= 65:\n",
        "  print('IDOSO')\n",
        "else:\n",
        "  print('ADULTO')"
      ],
      "metadata": {
        "colab": {
          "base_uri": "https://localhost:8080/"
        },
        "id": "3YPqRvFW3G6T",
        "outputId": "ed45f142-c3d8-4347-a794-ab1d39a876d0"
      },
      "execution_count": 64,
      "outputs": [
        {
          "output_type": "stream",
          "name": "stdout",
          "text": [
            "ADULTO\n"
          ]
        }
      ]
    }
  ]
}