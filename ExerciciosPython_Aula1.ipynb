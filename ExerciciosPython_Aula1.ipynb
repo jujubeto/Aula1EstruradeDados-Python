{
  "nbformat": 4,
  "nbformat_minor": 0,
  "metadata": {
    "colab": {
      "provenance": []
    },
    "kernelspec": {
      "name": "python3",
      "display_name": "Python 3"
    },
    "language_info": {
      "name": "python"
    }
  },
  "cells": [
    {
      "cell_type": "markdown",
      "source": [
        "\n",
        "EXERCÍCIO 1\n",
        "\n",
        "Ler dois números inteiros, executar e mostrar o resultado das seguintes operações: adição, subtração, multiplicação e divisão.\n",
        "\n"
      ],
      "metadata": {
        "id": "9engOYC6X71-"
      }
    },
    {
      "cell_type": "code",
      "execution_count": 1,
      "metadata": {
        "colab": {
          "base_uri": "https://localhost:8080/"
        },
        "id": "HEz_fwdBXSXu",
        "outputId": "35066431-e7c3-41d7-8b30-28d767e75493"
      },
      "outputs": [
        {
          "output_type": "stream",
          "name": "stdout",
          "text": [
            "digite o primeiro numero:2\n",
            "digite o segundo numero:6\n",
            "2 + 6 = 8\n",
            "2 - 6 = -4\n",
            "2 x 6 = 12\n",
            "2 / 6 = 0.3333333333333333\n"
          ]
        }
      ],
      "source": [
        "num1 = int(input('digite o primeiro numero:'))\n",
        "num2 = int(input('digite o segundo numero:'))\n",
        "\n",
        "print(f'{num1} + {num2} = {num1 + num2}')\n",
        "print(f'{num1} - {num2} = {num1 - num2}')\n",
        "print(f'{num1} x {num2} = {num1 * num2}')\n",
        "print(f'{num1} / {num2} = {num1 / num2}')"
      ]
    },
    {
      "cell_type": "markdown",
      "source": [
        "EXERCÍCIO 2\n",
        "Efetuar o cálculo da quantidade de litros de combustível gasto em uma\n",
        "viagem, utilizando um automóvel que faz 12 km por litro. Para obter o\n",
        "cálculo, o usuário deve fornecer o tempo gasto na viagem e a\n",
        "velocidade média durante ela. Desta forma, será possível obter a\n",
        "distância percorrida com a fórmula: DISTANCIA = TEMPO *\n",
        "VELOCIDADE. Tendo o valor da distância, basta calcular a quantidade de\n",
        "litros de combustível utilizada na viagem, com a fórmula:\n",
        "LITROS_USADOS = DISTANCIA / 12. O programa deve apresentar os\n",
        "valores da velocidade média, tempo gasto na viagem, a distância\n",
        "percorrida e a quantidade de litros utilizada na viagem. "
      ],
      "metadata": {
        "id": "shZ_OIgZZUY0"
      }
    },
    {
      "cell_type": "code",
      "source": [
        "temp = int(input('digite o tempo gasto em /h na viagem:'))\n",
        "velo = int(input('digite a velocidade média durando a viagem:'))\n",
        "distancia = temp * velo\n",
        "LitrosU = distancia / 12\n",
        "print(f'sua velociade media é: {velo}')\n",
        "print(f'seu tempo gasto foi: {temp}')\n",
        "print(f'sua distancia percorrida: {distancia}')\n",
        "print(f'quantidade de litros utilizada na viagem: {LitrosU}')"
      ],
      "metadata": {
        "colab": {
          "base_uri": "https://localhost:8080/"
        },
        "id": "xCVs2UY9ZD9E",
        "outputId": "8906c1ec-603a-45dd-920e-3a4cee455b79"
      },
      "execution_count": 2,
      "outputs": [
        {
          "output_type": "stream",
          "name": "stdout",
          "text": [
            "digite o tempo gasto em /h na viagem:3\n",
            "digite a velocidade média durando a viagem:50\n",
            "sua velociade media é: 50\n",
            "seu tempo gasto foi: 3\n",
            "sua distancia percorrida: 150\n",
            "quantidade de litros utilizada na viagem: 12.5\n"
          ]
        }
      ]
    },
    {
      "cell_type": "markdown",
      "source": [
        "EXERCÍCIO 3\n",
        "Leia a idade de uma pessoa e classifique-o em:\n",
        "Criança – 0 a 12 anos\n",
        "Adolescente – 13 a 17 anos\n",
        "Adulto – acima de 18 anos\n",
        "Se o usuário digitar um número negativo, mostra a mensagem\n",
        "que a idade é inválida."
      ],
      "metadata": {
        "id": "vkaVG6kHbKrw"
      }
    },
    {
      "cell_type": "code",
      "source": [
        "idade = int(input('Informe sua idade: '))\n",
        "\n",
        "if idade >= 0:\n",
        "  print('você é Criança')\n",
        "elif idade >= 13:\n",
        "  print('você é Adolescente')\n",
        "elif idade >= 18:\n",
        "  print('você é Adulto')\n",
        "else:\n",
        "  print('idade invalida!')  "
      ],
      "metadata": {
        "colab": {
          "base_uri": "https://localhost:8080/"
        },
        "id": "IOLMFhKwa65F",
        "outputId": "6ecfdcd3-44fb-40b8-b568-08fafc0d769a"
      },
      "execution_count": 7,
      "outputs": [
        {
          "output_type": "stream",
          "name": "stdout",
          "text": [
            "Informe sua idade: -14\n",
            "idade invalida!\n"
          ]
        }
      ]
    },
    {
      "cell_type": "markdown",
      "source": [
        "EXERCÍCIO 4\n",
        "Faça um programa que leia o nome e três notas de um aluno, calcule\n",
        "sua média e mostre uma mensagem segundo os critérios:\n",
        "- Se a média for maior ou igual a 6 – APROVADO\n",
        "- Se a média for menor ou igual a 4 – REPROVADO\n",
        "- Se a média estiver entre 4 e 6 – RECUPERAÇÃO"
      ],
      "metadata": {
        "id": "ZPlHVRuxdvIX"
      }
    },
    {
      "cell_type": "code",
      "source": [
        "nome = str(input('Informe seu nome: '))\n",
        "n1 = float(input('Digite sua nota1: '))\n",
        "n2 = float(input('Digite sua nota2: '))\n",
        "n3 = float(input('Digite sua nota3: '))\n",
        "\n",
        "media = (n1 + n2 + n3) / 3\n",
        "\n",
        "if media >= 6:\n",
        "  print(f'Aluno:{nome} Media:{round(media,2)} \\n APROVADO!')\n",
        "elif media <= 4:  \n",
        "  print(f'Aluno:{nome} Media:{round(media,2)} \\n REPROVADO')\n",
        "elif media == 5:\n",
        "  print(f'Aluno:{nome} Media:{round(media,2)} \\n RECUPERAÇÃO')  "
      ],
      "metadata": {
        "colab": {
          "base_uri": "https://localhost:8080/"
        },
        "id": "DKDLzpQ5dCXb",
        "outputId": "47a218ad-07b1-4997-9507-5fa05710875f"
      },
      "execution_count": 15,
      "outputs": [
        {
          "output_type": "stream",
          "name": "stdout",
          "text": [
            "Informe seu nome: gilberto\n",
            "Digite sua nota1: 6\n",
            "Digite sua nota2: 8\n",
            "Digite sua nota3: 6\n",
            "Aluno:gilberto Media:6.67 \n",
            " APROVADO!\n"
          ]
        }
      ]
    }
  ]
}