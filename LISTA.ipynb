{
  "nbformat": 4,
  "nbformat_minor": 0,
  "metadata": {
    "colab": {
      "provenance": []
    },
    "kernelspec": {
      "name": "python3",
      "display_name": "Python 3"
    },
    "language_info": {
      "name": "python"
    }
  },
  "cells": [
    {
      "cell_type": "markdown",
      "source": [
        "**BIBLIOTECAS**\n",
        "É UM CONJUNTO DE FUNÇÕES E CÓDIGOS PRONTOS QUE FACILITAM O DESENVOLVIMENTO DOS PROGRAMAS. USAMOS O COMANDO IMPORT PARA IMPORTÁ-LAS"
      ],
      "metadata": {
        "id": "39qoH-6CHRNF"
      }
    },
    {
      "cell_type": "code",
      "execution_count": 1,
      "metadata": {
        "colab": {
          "base_uri": "https://localhost:8080/"
        },
        "id": "cN41YFjVGfNt",
        "outputId": "dab12ce3-dedf-4281-eaf1-9fa27e9d4507"
      },
      "outputs": [
        {
          "output_type": "execute_result",
          "data": {
            "text/plain": [
              "15"
            ]
          },
          "metadata": {},
          "execution_count": 1
        }
      ],
      "source": [
        "5 * 3"
      ]
    },
    {
      "cell_type": "code",
      "source": [
        "import math"
      ],
      "metadata": {
        "id": "RyvEGaT6Horn"
      },
      "execution_count": 2,
      "outputs": []
    },
    {
      "cell_type": "code",
      "source": [
        "math.sqrt(16) #retorna a raiz quadrada"
      ],
      "metadata": {
        "colab": {
          "base_uri": "https://localhost:8080/"
        },
        "id": "y1yEqsbVHrep",
        "outputId": "3b34ec50-e2d7-4794-cdc7-4c728679db48"
      },
      "execution_count": 3,
      "outputs": [
        {
          "output_type": "execute_result",
          "data": {
            "text/plain": [
              "4.0"
            ]
          },
          "metadata": {},
          "execution_count": 3
        }
      ]
    },
    {
      "cell_type": "code",
      "source": [
        "math.pow(5,2) #retorna a potência de 2"
      ],
      "metadata": {
        "colab": {
          "base_uri": "https://localhost:8080/"
        },
        "id": "Q63qbi1wHxTf",
        "outputId": "eeea7a4e-8ac9-45e1-ada2-602302bd7f14"
      },
      "execution_count": 4,
      "outputs": [
        {
          "output_type": "execute_result",
          "data": {
            "text/plain": [
              "25.0"
            ]
          },
          "metadata": {},
          "execution_count": 4
        }
      ]
    },
    {
      "cell_type": "code",
      "source": [
        "math.factorial(5)"
      ],
      "metadata": {
        "colab": {
          "base_uri": "https://localhost:8080/"
        },
        "id": "eQ2-mWecH5R2",
        "outputId": "114b3e4d-e957-4720-c6fd-2652a684f15e"
      },
      "execution_count": 5,
      "outputs": [
        {
          "output_type": "execute_result",
          "data": {
            "text/plain": [
              "120"
            ]
          },
          "metadata": {},
          "execution_count": 5
        }
      ]
    },
    {
      "cell_type": "code",
      "source": [
        "import random"
      ],
      "metadata": {
        "id": "oifkop0VH_cy"
      },
      "execution_count": 6,
      "outputs": []
    },
    {
      "cell_type": "code",
      "source": [
        "random.randint(1,100) #retorna números aleatórios entre 1 e 100"
      ],
      "metadata": {
        "colab": {
          "base_uri": "https://localhost:8080/"
        },
        "id": "EzekZKdZICjA",
        "outputId": "1c245820-138e-431b-fef8-678f5cba632e"
      },
      "execution_count": 9,
      "outputs": [
        {
          "output_type": "execute_result",
          "data": {
            "text/plain": [
              "93"
            ]
          },
          "metadata": {},
          "execution_count": 9
        }
      ]
    },
    {
      "cell_type": "code",
      "source": [
        "random.choice([14,10,46,78])"
      ],
      "metadata": {
        "colab": {
          "base_uri": "https://localhost:8080/"
        },
        "id": "lDnQnRMNIK7W",
        "outputId": "d18002c3-e0b8-444c-dfe5-451c265e1f39"
      },
      "execution_count": 10,
      "outputs": [
        {
          "output_type": "execute_result",
          "data": {
            "text/plain": [
              "10"
            ]
          },
          "metadata": {},
          "execution_count": 10
        }
      ]
    },
    {
      "cell_type": "code",
      "source": [
        "import datetime"
      ],
      "metadata": {
        "id": "J5mjEzL2IXdP"
      },
      "execution_count": 11,
      "outputs": []
    },
    {
      "cell_type": "code",
      "source": [
        "datetime.date.today() #retorna a data atual"
      ],
      "metadata": {
        "colab": {
          "base_uri": "https://localhost:8080/"
        },
        "id": "lT4dhy9VIbAm",
        "outputId": "0b235e4c-a2a3-4d1f-dc9a-78afc984e048"
      },
      "execution_count": 12,
      "outputs": [
        {
          "output_type": "execute_result",
          "data": {
            "text/plain": [
              "datetime.date(2023, 5, 10)"
            ]
          },
          "metadata": {},
          "execution_count": 12
        }
      ]
    },
    {
      "cell_type": "code",
      "source": [
        "datetime.date.today().day #retorna o dia"
      ],
      "metadata": {
        "colab": {
          "base_uri": "https://localhost:8080/"
        },
        "id": "8DXLpyPqIgDm",
        "outputId": "7b20aeae-8f53-47ad-fdbb-97dd4111258a"
      },
      "execution_count": 13,
      "outputs": [
        {
          "output_type": "execute_result",
          "data": {
            "text/plain": [
              "10"
            ]
          },
          "metadata": {},
          "execution_count": 13
        }
      ]
    },
    {
      "cell_type": "code",
      "source": [
        "datetime.date.today().month #retorna o mês"
      ],
      "metadata": {
        "colab": {
          "base_uri": "https://localhost:8080/"
        },
        "id": "cn7H66atInDG",
        "outputId": "0aaab286-a9a4-4a8f-f940-f1c87dd6e49f"
      },
      "execution_count": 15,
      "outputs": [
        {
          "output_type": "execute_result",
          "data": {
            "text/plain": [
              "5"
            ]
          },
          "metadata": {},
          "execution_count": 15
        }
      ]
    },
    {
      "cell_type": "code",
      "source": [
        "datetime.date.today().year #retorna o ano"
      ],
      "metadata": {
        "colab": {
          "base_uri": "https://localhost:8080/"
        },
        "id": "b3liabFtIqH-",
        "outputId": "f96d5283-4b4b-48de-a2f6-97a8bfe1cd84"
      },
      "execution_count": 16,
      "outputs": [
        {
          "output_type": "execute_result",
          "data": {
            "text/plain": [
              "2023"
            ]
          },
          "metadata": {},
          "execution_count": 16
        }
      ]
    },
    {
      "cell_type": "code",
      "source": [
        "import time"
      ],
      "metadata": {
        "id": "E__1saPAIu2t"
      },
      "execution_count": 17,
      "outputs": []
    },
    {
      "cell_type": "code",
      "source": [
        "for contador in range(5):\n",
        "  print('conectando...')\n",
        "  time.sleep(1)"
      ],
      "metadata": {
        "colab": {
          "base_uri": "https://localhost:8080/"
        },
        "id": "xQhyU1neIxn-",
        "outputId": "a1d13158-8614-4bef-8e3a-67e83173d102"
      },
      "execution_count": 18,
      "outputs": [
        {
          "output_type": "stream",
          "name": "stdout",
          "text": [
            "conectando...\n",
            "conectando...\n",
            "conectando...\n",
            "conectando...\n",
            "conectando...\n"
          ]
        }
      ]
    },
    {
      "cell_type": "markdown",
      "source": [
        "LISTA"
      ],
      "metadata": {
        "id": "OU94onrLI_c0"
      }
    },
    {
      "cell_type": "code",
      "source": [
        "lista = [1,2,3,4,5] #cria uma lista com os valores"
      ],
      "metadata": {
        "id": "pI-iU0LvI8BG"
      },
      "execution_count": 19,
      "outputs": []
    },
    {
      "cell_type": "code",
      "source": [
        "lista"
      ],
      "metadata": {
        "colab": {
          "base_uri": "https://localhost:8080/"
        },
        "id": "erULVI8NJG2v",
        "outputId": "0f833d8a-aec7-4958-880d-b58af9072c34"
      },
      "execution_count": 20,
      "outputs": [
        {
          "output_type": "execute_result",
          "data": {
            "text/plain": [
              "[1, 2, 3, 4, 5]"
            ]
          },
          "metadata": {},
          "execution_count": 20
        }
      ]
    },
    {
      "cell_type": "code",
      "source": [
        "type(lista)"
      ],
      "metadata": {
        "colab": {
          "base_uri": "https://localhost:8080/"
        },
        "id": "mwvIYWcZJIHQ",
        "outputId": "4f70af93-efff-4aa5-bf99-ce59bd0de11c"
      },
      "execution_count": 21,
      "outputs": [
        {
          "output_type": "execute_result",
          "data": {
            "text/plain": [
              "list"
            ]
          },
          "metadata": {},
          "execution_count": 21
        }
      ]
    },
    {
      "cell_type": "code",
      "source": [
        "lista[0] #retorna o elemento da posição zero(0)"
      ],
      "metadata": {
        "colab": {
          "base_uri": "https://localhost:8080/"
        },
        "id": "yzq2Q8dhJMd2",
        "outputId": "419ce9fc-9a26-416f-d10f-5b2a45a6b117"
      },
      "execution_count": 22,
      "outputs": [
        {
          "output_type": "execute_result",
          "data": {
            "text/plain": [
              "1"
            ]
          },
          "metadata": {},
          "execution_count": 22
        }
      ]
    },
    {
      "cell_type": "markdown",
      "source": [
        "INSERINDO ELEMENTOS NA LISTA"
      ],
      "metadata": {
        "id": "PorZhGhpJYTd"
      }
    },
    {
      "cell_type": "code",
      "source": [
        "lista.append(6) #insere um elemento no final da lista"
      ],
      "metadata": {
        "id": "CLjqiU3zJUm1"
      },
      "execution_count": 23,
      "outputs": []
    },
    {
      "cell_type": "code",
      "source": [
        "lista"
      ],
      "metadata": {
        "colab": {
          "base_uri": "https://localhost:8080/"
        },
        "id": "NVoao-VlJhut",
        "outputId": "9fbc53fc-d890-41a0-eedc-9f5f6569ac71"
      },
      "execution_count": 24,
      "outputs": [
        {
          "output_type": "execute_result",
          "data": {
            "text/plain": [
              "[1, 2, 3, 4, 5, 6]"
            ]
          },
          "metadata": {},
          "execution_count": 24
        }
      ]
    },
    {
      "cell_type": "code",
      "source": [
        "lista[1] = 100 #sobrepoe o elemento no indice informado"
      ],
      "metadata": {
        "id": "Gx-FoxonJjCn"
      },
      "execution_count": 25,
      "outputs": []
    },
    {
      "cell_type": "code",
      "source": [
        "lista"
      ],
      "metadata": {
        "colab": {
          "base_uri": "https://localhost:8080/"
        },
        "id": "akR_robOJrGG",
        "outputId": "8c09219b-50ba-4779-8888-f6fed6f83e59"
      },
      "execution_count": 26,
      "outputs": [
        {
          "output_type": "execute_result",
          "data": {
            "text/plain": [
              "[1, 100, 3, 4, 5, 6]"
            ]
          },
          "metadata": {},
          "execution_count": 26
        }
      ]
    },
    {
      "cell_type": "code",
      "source": [
        "del lista[1] #apaga o elemento da posição informada"
      ],
      "metadata": {
        "id": "u_oWhDEzJuN_"
      },
      "execution_count": 27,
      "outputs": []
    },
    {
      "cell_type": "code",
      "source": [
        "lista"
      ],
      "metadata": {
        "colab": {
          "base_uri": "https://localhost:8080/"
        },
        "id": "IqNGjBZ9J06l",
        "outputId": "ed3400db-4a72-4230-937b-b845edc7ca30"
      },
      "execution_count": 28,
      "outputs": [
        {
          "output_type": "execute_result",
          "data": {
            "text/plain": [
              "[1, 3, 4, 5, 6]"
            ]
          },
          "metadata": {},
          "execution_count": 28
        }
      ]
    },
    {
      "cell_type": "code",
      "source": [
        "lista.insert(1,2) #insere o elemento na posição informada"
      ],
      "metadata": {
        "id": "Y0fT4ID0J2mt"
      },
      "execution_count": 29,
      "outputs": []
    },
    {
      "cell_type": "code",
      "source": [
        "lista"
      ],
      "metadata": {
        "colab": {
          "base_uri": "https://localhost:8080/"
        },
        "id": "LL6FPE85KAH2",
        "outputId": "357f502d-6788-439e-9001-08a6ba95abae"
      },
      "execution_count": 30,
      "outputs": [
        {
          "output_type": "execute_result",
          "data": {
            "text/plain": [
              "[1, 2, 3, 4, 5, 6]"
            ]
          },
          "metadata": {},
          "execution_count": 30
        }
      ]
    },
    {
      "cell_type": "code",
      "source": [
        "lista.remove(4) #remove o elemento do parâmetro"
      ],
      "metadata": {
        "id": "Jfm-XhgLKA1W"
      },
      "execution_count": 31,
      "outputs": []
    },
    {
      "cell_type": "code",
      "source": [
        "lista"
      ],
      "metadata": {
        "colab": {
          "base_uri": "https://localhost:8080/"
        },
        "id": "WZ4MvyT9KKKV",
        "outputId": "8a6814dd-9d18-4c13-854d-3ced786e6a66"
      },
      "execution_count": 32,
      "outputs": [
        {
          "output_type": "execute_result",
          "data": {
            "text/plain": [
              "[1, 2, 3, 5, 6]"
            ]
          },
          "metadata": {},
          "execution_count": 32
        }
      ]
    },
    {
      "cell_type": "code",
      "source": [
        "lista.pop(2) #sem parâmetro, remove o elemento do índice informado"
      ],
      "metadata": {
        "colab": {
          "base_uri": "https://localhost:8080/"
        },
        "id": "BMuk502OKMed",
        "outputId": "45dbb7da-e5d3-4b1f-dc60-abb2b097994f"
      },
      "execution_count": 34,
      "outputs": [
        {
          "output_type": "execute_result",
          "data": {
            "text/plain": [
              "3"
            ]
          },
          "metadata": {},
          "execution_count": 34
        }
      ]
    },
    {
      "cell_type": "code",
      "source": [
        "numeros = list() #cria uma lista vazia"
      ],
      "metadata": {
        "id": "7ey5EFlQKWjf"
      },
      "execution_count": 35,
      "outputs": []
    },
    {
      "cell_type": "code",
      "source": [
        "numeros"
      ],
      "metadata": {
        "colab": {
          "base_uri": "https://localhost:8080/"
        },
        "id": "psaVbot-Khwo",
        "outputId": "a2bbfda6-4778-4ce6-c20d-73ea9732bc59"
      },
      "execution_count": 36,
      "outputs": [
        {
          "output_type": "execute_result",
          "data": {
            "text/plain": [
              "[]"
            ]
          },
          "metadata": {},
          "execution_count": 36
        }
      ]
    },
    {
      "cell_type": "code",
      "source": [
        "numeros.append(10)"
      ],
      "metadata": {
        "id": "MyzZETnhKi8d"
      },
      "execution_count": 37,
      "outputs": []
    },
    {
      "cell_type": "code",
      "source": [
        "numeros.append(25)"
      ],
      "metadata": {
        "id": "LBqgFE_yKnUM"
      },
      "execution_count": 38,
      "outputs": []
    },
    {
      "cell_type": "code",
      "source": [
        "numeros"
      ],
      "metadata": {
        "colab": {
          "base_uri": "https://localhost:8080/"
        },
        "id": "wi8UBzesKqJF",
        "outputId": "c4ad1dec-be6f-4a9f-d987-d5c2694cb1b0"
      },
      "execution_count": 40,
      "outputs": [
        {
          "output_type": "execute_result",
          "data": {
            "text/plain": [
              "[10, 25]"
            ]
          },
          "metadata": {},
          "execution_count": 40
        }
      ]
    },
    {
      "cell_type": "markdown",
      "source": [
        "CRIANDO UMA LISTA COM RANGE"
      ],
      "metadata": {
        "id": "-c4euqBeKyM8"
      }
    },
    {
      "cell_type": "code",
      "source": [
        "valores = list(range(1,10))"
      ],
      "metadata": {
        "id": "3NQxoy4IKq8g"
      },
      "execution_count": 41,
      "outputs": []
    },
    {
      "cell_type": "code",
      "source": [
        "valores"
      ],
      "metadata": {
        "colab": {
          "base_uri": "https://localhost:8080/"
        },
        "id": "QWucUt90K69u",
        "outputId": "c3ceabfa-3980-42fe-ec28-5b74fae0212e"
      },
      "execution_count": 42,
      "outputs": [
        {
          "output_type": "execute_result",
          "data": {
            "text/plain": [
              "[1, 2, 3, 4, 5, 6, 7, 8, 9]"
            ]
          },
          "metadata": {},
          "execution_count": 42
        }
      ]
    },
    {
      "cell_type": "code",
      "source": [
        "valores[-1] #retorna o ultimo elemento da lista"
      ],
      "metadata": {
        "colab": {
          "base_uri": "https://localhost:8080/"
        },
        "id": "_pNFyqmcK75W",
        "outputId": "a6c30879-c629-4e2d-e120-1b6c1fd222b5"
      },
      "execution_count": 43,
      "outputs": [
        {
          "output_type": "execute_result",
          "data": {
            "text/plain": [
              "9"
            ]
          },
          "metadata": {},
          "execution_count": 43
        }
      ]
    },
    {
      "cell_type": "code",
      "source": [
        "print(valores)\n",
        "valores[:3]"
      ],
      "metadata": {
        "colab": {
          "base_uri": "https://localhost:8080/"
        },
        "id": "k14Um9_ILFzO",
        "outputId": "a1de4158-9974-46db-ad68-cc309815f937"
      },
      "execution_count": 46,
      "outputs": [
        {
          "output_type": "stream",
          "name": "stdout",
          "text": [
            "[1, 2, 3, 4, 5, 6, 7, 8, 9]\n"
          ]
        },
        {
          "output_type": "execute_result",
          "data": {
            "text/plain": [
              "[1, 2, 3]"
            ]
          },
          "metadata": {},
          "execution_count": 46
        }
      ]
    },
    {
      "cell_type": "code",
      "source": [
        "print(valores)\n",
        "valores[4:]"
      ],
      "metadata": {
        "colab": {
          "base_uri": "https://localhost:8080/"
        },
        "id": "zPGXaB-yLKil",
        "outputId": "524fe840-922c-4ab5-a33a-3a92962b27a3"
      },
      "execution_count": 47,
      "outputs": [
        {
          "output_type": "stream",
          "name": "stdout",
          "text": [
            "[1, 2, 3, 4, 5, 6, 7, 8, 9]\n"
          ]
        },
        {
          "output_type": "execute_result",
          "data": {
            "text/plain": [
              "[5, 6, 7, 8, 9]"
            ]
          },
          "metadata": {},
          "execution_count": 47
        }
      ]
    },
    {
      "cell_type": "code",
      "source": [
        "lista = [35,24,78,10,15,32]"
      ],
      "metadata": {
        "id": "l_25aZ3ALUsQ"
      },
      "execution_count": 48,
      "outputs": []
    },
    {
      "cell_type": "code",
      "source": [
        "lista.sort() #coloca a lista em ordem crescente"
      ],
      "metadata": {
        "id": "n4nTpwLlLcIl"
      },
      "execution_count": 50,
      "outputs": []
    },
    {
      "cell_type": "code",
      "source": [
        "lista"
      ],
      "metadata": {
        "colab": {
          "base_uri": "https://localhost:8080/"
        },
        "id": "inlbUUpsLgX9",
        "outputId": "6354895b-f297-4a11-92ec-f62228638f4d"
      },
      "execution_count": 51,
      "outputs": [
        {
          "output_type": "execute_result",
          "data": {
            "text/plain": [
              "[10, 15, 24, 32, 35, 78]"
            ]
          },
          "metadata": {},
          "execution_count": 51
        }
      ]
    },
    {
      "cell_type": "code",
      "source": [
        "lista.sort(reverse=True) #mostra a lista em ordem inversa"
      ],
      "metadata": {
        "id": "-t7YvGzwLll1"
      },
      "execution_count": 52,
      "outputs": []
    },
    {
      "cell_type": "code",
      "source": [
        "lista"
      ],
      "metadata": {
        "colab": {
          "base_uri": "https://localhost:8080/"
        },
        "id": "YarXgWiqLvm2",
        "outputId": "dbe4d2f8-c852-49ea-e00a-44ff42f20d04"
      },
      "execution_count": 53,
      "outputs": [
        {
          "output_type": "execute_result",
          "data": {
            "text/plain": [
              "[78, 35, 32, 24, 15, 10]"
            ]
          },
          "metadata": {},
          "execution_count": 53
        }
      ]
    },
    {
      "cell_type": "code",
      "source": [
        "max(lista) #retorna o maior valor"
      ],
      "metadata": {
        "colab": {
          "base_uri": "https://localhost:8080/"
        },
        "id": "SNav5eCYLwgV",
        "outputId": "a00e2ca5-35ec-4d99-de70-53a8401e6b23"
      },
      "execution_count": 55,
      "outputs": [
        {
          "output_type": "execute_result",
          "data": {
            "text/plain": [
              "78"
            ]
          },
          "metadata": {},
          "execution_count": 55
        }
      ]
    },
    {
      "cell_type": "code",
      "source": [
        "min(lista) #retorna o menor valor"
      ],
      "metadata": {
        "colab": {
          "base_uri": "https://localhost:8080/"
        },
        "id": "rCScikvKL4A9",
        "outputId": "23cb3046-d1ee-4445-f8e9-12f7281bfc6e"
      },
      "execution_count": 56,
      "outputs": [
        {
          "output_type": "execute_result",
          "data": {
            "text/plain": [
              "10"
            ]
          },
          "metadata": {},
          "execution_count": 56
        }
      ]
    },
    {
      "cell_type": "code",
      "source": [
        "sum(lista) #retorna a soma dos valores"
      ],
      "metadata": {
        "colab": {
          "base_uri": "https://localhost:8080/"
        },
        "id": "3ipXu3gzL9bF",
        "outputId": "e57c57bc-f5dc-4c6b-9e3c-0ffcffe48c80"
      },
      "execution_count": 57,
      "outputs": [
        {
          "output_type": "execute_result",
          "data": {
            "text/plain": [
              "194"
            ]
          },
          "metadata": {},
          "execution_count": 57
        }
      ]
    },
    {
      "cell_type": "code",
      "source": [
        "len(lista) #retorna o tamanho da lista"
      ],
      "metadata": {
        "colab": {
          "base_uri": "https://localhost:8080/"
        },
        "id": "-KAvYUrrMBof",
        "outputId": "324065a1-bc81-4e1c-c183-e566b4f66f12"
      },
      "execution_count": 58,
      "outputs": [
        {
          "output_type": "execute_result",
          "data": {
            "text/plain": [
              "6"
            ]
          },
          "metadata": {},
          "execution_count": 58
        }
      ]
    },
    {
      "cell_type": "code",
      "source": [
        "10 in lista # retorna True se o valor 10 estiver na lista"
      ],
      "metadata": {
        "colab": {
          "base_uri": "https://localhost:8080/"
        },
        "id": "bnyJKATeMG_d",
        "outputId": "8a236ad5-b989-4c31-be9d-bb02441ac384"
      },
      "execution_count": 59,
      "outputs": [
        {
          "output_type": "execute_result",
          "data": {
            "text/plain": [
              "True"
            ]
          },
          "metadata": {},
          "execution_count": 59
        }
      ]
    },
    {
      "cell_type": "code",
      "source": [
        "if 14 in lista:\n",
        "  lista.remove(14)\n",
        "else:\n",
        "  print('Não achei o valor na lista')  "
      ],
      "metadata": {
        "colab": {
          "base_uri": "https://localhost:8080/"
        },
        "id": "TA_1RoJUMR99",
        "outputId": "11663d8f-ccfb-4ede-d4cf-28aab5bcc1da"
      },
      "execution_count": 60,
      "outputs": [
        {
          "output_type": "stream",
          "name": "stdout",
          "text": [
            "Não achei o valor na lista\n"
          ]
        }
      ]
    },
    {
      "cell_type": "code",
      "source": [
        "for i in lista:\n",
        "  print(i, end=' ')"
      ],
      "metadata": {
        "colab": {
          "base_uri": "https://localhost:8080/"
        },
        "id": "8tmHNL2mMinl",
        "outputId": "27bd5150-73f4-4361-8c57-e8b61af926d6"
      },
      "execution_count": 63,
      "outputs": [
        {
          "output_type": "stream",
          "name": "stdout",
          "text": [
            "78 35 32 24 15 10 "
          ]
        }
      ]
    },
    {
      "cell_type": "code",
      "source": [
        "for i in enumerate(lista): #retorna o indice e o valor\n",
        "  print(i)"
      ],
      "metadata": {
        "colab": {
          "base_uri": "https://localhost:8080/"
        },
        "id": "vnIKL8UvMofd",
        "outputId": "c77a0c2f-fbea-4615-8114-c1726bcc8ea1"
      },
      "execution_count": 64,
      "outputs": [
        {
          "output_type": "stream",
          "name": "stdout",
          "text": [
            "(0, 78)\n",
            "(1, 35)\n",
            "(2, 32)\n",
            "(3, 24)\n",
            "(4, 15)\n",
            "(5, 10)\n"
          ]
        }
      ]
    },
    {
      "cell_type": "markdown",
      "source": [
        "INSERINDO VALORES PELO TECLADO"
      ],
      "metadata": {
        "id": "Z82lL6kLNBJC"
      }
    },
    {
      "cell_type": "code",
      "source": [
        "valores = [] \n",
        "for i in range(5):\n",
        "  valores.append(int(input('Digite um valor: ')))\n",
        "\n",
        "print(valores)"
      ],
      "metadata": {
        "colab": {
          "base_uri": "https://localhost:8080/"
        },
        "id": "qpJGia9vM8Am",
        "outputId": "a0119710-9b90-4ce3-88e9-acbf7bf49588"
      },
      "execution_count": 65,
      "outputs": [
        {
          "output_type": "stream",
          "name": "stdout",
          "text": [
            "Digite um valor: 12\n",
            "Digite um valor: 23\n",
            "Digite um valor: 25\n",
            "Digite um valor: 76\n",
            "Digite um valor: 54\n",
            "[12, 23, 25, 76, 54]\n"
          ]
        }
      ]
    },
    {
      "cell_type": "markdown",
      "source": [
        "CRIANDO LISTA DE STRING"
      ],
      "metadata": {
        "id": "t_RW64jvNYew"
      }
    },
    {
      "cell_type": "code",
      "source": [
        "estados = ['São Paulo', 'Bahia', 'Rio', 'Minas']"
      ],
      "metadata": {
        "id": "yRsiSFgkNSLF"
      },
      "execution_count": 66,
      "outputs": []
    },
    {
      "cell_type": "code",
      "source": [
        "estados"
      ],
      "metadata": {
        "colab": {
          "base_uri": "https://localhost:8080/"
        },
        "id": "t7pfVD97Nk1s",
        "outputId": "5d1807f4-f49b-4a0d-b40b-17d1eaf17bf3"
      },
      "execution_count": 67,
      "outputs": [
        {
          "output_type": "execute_result",
          "data": {
            "text/plain": [
              "['São Paulo', 'Bahia', 'Rio', 'Minas']"
            ]
          },
          "metadata": {},
          "execution_count": 67
        }
      ]
    },
    {
      "cell_type": "code",
      "source": [
        "print('O estado sorteado foi: ', random.choice(estados))"
      ],
      "metadata": {
        "colab": {
          "base_uri": "https://localhost:8080/"
        },
        "id": "88OOqyn-NmUt",
        "outputId": "2e1e18f4-4e64-4584-860d-0edcc1da73f2"
      },
      "execution_count": 68,
      "outputs": [
        {
          "output_type": "stream",
          "name": "stdout",
          "text": [
            "O estado sorteado foi:  Bahia\n"
          ]
        }
      ]
    },
    {
      "cell_type": "code",
      "source": [
        "lista.clear() #apaga a lista"
      ],
      "metadata": {
        "id": "M1GiDisQNvRQ"
      },
      "execution_count": 69,
      "outputs": []
    },
    {
      "cell_type": "code",
      "source": [
        "lista"
      ],
      "metadata": {
        "colab": {
          "base_uri": "https://localhost:8080/"
        },
        "id": "LJzgDcpcN0y2",
        "outputId": "bd28e002-8d21-4124-d2e5-48cce859809c"
      },
      "execution_count": 70,
      "outputs": [
        {
          "output_type": "execute_result",
          "data": {
            "text/plain": [
              "[]"
            ]
          },
          "metadata": {},
          "execution_count": 70
        }
      ]
    },
    {
      "cell_type": "code",
      "source": [
        "a = [1,2,3]\n",
        "b = [4,5,6]\n"
      ],
      "metadata": {
        "id": "adUZMzklN1j9"
      },
      "execution_count": 71,
      "outputs": []
    },
    {
      "cell_type": "code",
      "source": [
        "print(a)\n",
        "print(b)"
      ],
      "metadata": {
        "colab": {
          "base_uri": "https://localhost:8080/"
        },
        "id": "lUocSukuN844",
        "outputId": "2d7e26a2-2104-4a63-bae1-17b10f15f231"
      },
      "execution_count": 72,
      "outputs": [
        {
          "output_type": "stream",
          "name": "stdout",
          "text": [
            "[1, 2, 3]\n",
            "[4, 5, 6]\n"
          ]
        }
      ]
    },
    {
      "cell_type": "code",
      "source": [
        "a.extend(b)"
      ],
      "metadata": {
        "id": "Oh1hLEa7OAPG"
      },
      "execution_count": 73,
      "outputs": []
    },
    {
      "cell_type": "code",
      "source": [
        "print(a)"
      ],
      "metadata": {
        "id": "yQWTXa0NODPA",
        "outputId": "d44e3b7d-0702-48be-dd63-6ccef230dee6",
        "colab": {
          "base_uri": "https://localhost:8080/"
        }
      },
      "execution_count": 74,
      "outputs": [
        {
          "output_type": "stream",
          "name": "stdout",
          "text": [
            "[1, 2, 3, 4, 5, 6]\n"
          ]
        }
      ]
    },
    {
      "cell_type": "code",
      "source": [],
      "metadata": {
        "id": "mUL-7xQ8OFH0"
      },
      "execution_count": null,
      "outputs": []
    }
  ]
}