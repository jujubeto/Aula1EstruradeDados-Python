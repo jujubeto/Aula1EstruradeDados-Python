{
  "nbformat": 4,
  "nbformat_minor": 0,
  "metadata": {
    "colab": {
      "provenance": []
    },
    "kernelspec": {
      "name": "python3",
      "display_name": "Python 3"
    },
    "language_info": {
      "name": "python"
    }
  },
  "cells": [
    {
      "cell_type": "markdown",
      "source": [
        "1) Dadas duas listas P1 e P2, ambas com 5 valores reais que representam as notas\n",
        "de uma turma na prova 1 e na prova 2, respectivamente, escreva um programa\n",
        "que calcule a média da turma nas provas 1 e 2, imprimindo em qual das provas a\n",
        "turma obteve a melhor média."
      ],
      "metadata": {
        "id": "WQx6F91dChKT"
      }
    },
    {
      "cell_type": "code",
      "execution_count": null,
      "metadata": {
        "id": "CxyRs2nzBSg1"
      },
      "outputs": [],
      "source": [
        "p1 = [3.3,4.5,5.6,8.9]\n",
        "p2 = [4.5,6.0,7.9,4.3]\n",
        "\n",
        "mediaP1 = sum(p1)/len(p1)\n",
        "mediaP2 = sum(p2)/len(p1)\n",
        "\n",
        "if mediaP1 > mediaP2:\n",
        "  print(f'a media maior é da p1 {mediaP1:.1f}')\n",
        "elif mediaP2 > mediaP1:\n",
        "  print(f'a media maior é da p2 {mediaP2:.1f}')\n",
        "  "
      ]
    },
    {
      "cell_type": "markdown",
      "source": [
        "2) Faça um programa que leia 10 números. Se o número lido for par, deverá ser\n",
        "armazenado em uma lista chamada PAR, se for ímpar, deverá ser armazenado\n",
        "em uma lista chamada ÍMPAR. No final, mostrar o conteúdo das duas listas."
      ],
      "metadata": {
        "id": "GzU4hYiaDreC"
      }
    },
    {
      "cell_type": "code",
      "source": [
        "Par = []\n",
        "Imp = []\n",
        "\n",
        "for i in range(10):\n",
        "  if i%2 == 0:\n",
        "    Par.append(i)\n",
        "  elif i%2 != 0:\n",
        "    Imp.append(i)\n",
        "\n",
        "print(f'A lista Par é: {Par} \\n')\n",
        "print(f'A lista Impar é: {Imp} \\n')"
      ],
      "metadata": {
        "id": "L8UxVGKODsNh"
      },
      "execution_count": null,
      "outputs": []
    },
    {
      "cell_type": "markdown",
      "source": [
        "3) Crie um programa que leia um número do teclado e imprima, dependendo do\n",
        "número digitado, o dia da semana, sendo que Domingo será 0. O programa\n",
        "deverá testar se o usuário digitou um número dentro das opções válidas."
      ],
      "metadata": {
        "id": "xbo6cxmFDvSN"
      }
    },
    {
      "cell_type": "code",
      "source": [
        "semana = ['domingo','segnda','terça','quarta','quinta','sexta','sabado']\n",
        "\n",
        "while True:\n",
        "  dia = int(input('escreva um numero de 0 a 6:'))\n",
        "  if 0 <= dia <= 6:\n",
        "    break\n",
        "    print('tente novamente', end='')\n",
        "print(f'o dia da semana é: {semana[dia]}')   "
      ],
      "metadata": {
        "id": "W4Hlh9AXDy6F"
      },
      "execution_count": null,
      "outputs": []
    },
    {
      "cell_type": "markdown",
      "source": [
        "4) Crie uma tupla preenchida com os 10 primeiros colocados do campeonato\n",
        "paulista de Futebol(2023), em ordem de colocação, depois mostre:\n",
        "• os 3 primeiros\n",
        "• os três últimos colocados\n",
        "• os times em ordem alfabética\n",
        "• em que posição está o Corinthians"
      ],
      "metadata": {
        "id": "ZRY1SqOeD6HT"
      }
    },
    {
      "cell_type": "code",
      "source": [
        "times = ('Palmeiras', 'Agua Santa', 'São Bernardo', 'São Paulo', 'Bragantino', 'Corinthians', 'Mirassol', 'Guarani', 'Botafogo-SP', 'Santo André')\n",
        "\n",
        "print(f'Os três últimos colocados: {times[:3]}')\n",
        "print(f'Os três últimos colocados: {times[-3:]}')\n",
        "print(f'Os times em ordem alfabética: {sorted(times)}')\n",
        "print('O corinthians esta na posição: ', end = ' ')\n",
        "print(times.index('Corinthians') + 1)\n",
        "#print('O corinthians está na posição: ' + times.index['Corinthians'])"
      ],
      "metadata": {
        "colab": {
          "base_uri": "https://localhost:8080/"
        },
        "id": "FGFjRn3NEBqB",
        "outputId": "4e8cb8f8-d514-4284-de5e-4a2fa9f421d1"
      },
      "execution_count": null,
      "outputs": [
        {
          "output_type": "stream",
          "name": "stdout",
          "text": [
            "Os três últimos colocados: ('Palmeiras', 'Agua Santa', 'São Bernardo')\n",
            "Os três últimos colocados: ('Guarani', 'Botafogo-SP', 'Santo André')\n",
            "Os times em ordem alfabética: ['Agua Santa', 'Botafogo-SP', 'Bragantino', 'Corinthians', 'Guarani', 'Mirassol', 'Palmeiras', 'Santo André', 'São Bernardo', 'São Paulo']\n",
            "O corinthians esta na posição:  6\n"
          ]
        }
      ]
    }
  ]
}