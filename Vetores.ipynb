{
  "nbformat": 4,
  "nbformat_minor": 0,
  "metadata": {
    "colab": {
      "provenance": []
    },
    "kernelspec": {
      "name": "python3",
      "display_name": "Python 3"
    },
    "language_info": {
      "name": "python"
    }
  },
  "cells": [
    {
      "cell_type": "markdown",
      "source": [
        "**VETORES**\n",
        "\n",
        "Os vetores e as matrizes estruturas de dados estáticas e que suportam um tipo de dado. Quando criamos um vetor numpy vazio, por padrão, é criado o tipo float. Uma vez definido seu tamanho, não é mais possível alterar. São acessados também por indices que iniciam em zero(0), ocupam menos que as listas e são mais rápidos também. Para criá-lo é necessário importar a biblioteca numpy.\n"
      ],
      "metadata": {
        "id": "8K8DvUjy5Hzl"
      }
    },
    {
      "cell_type": "code",
      "execution_count": 1,
      "metadata": {
        "id": "SyXIcWGW5EEG"
      },
      "outputs": [],
      "source": [
        "import numpy as np\n",
        "\n",
        "vetor1 = np.array([1,2,3,4,5]) #cria um vetor de inteiros"
      ]
    },
    {
      "cell_type": "code",
      "source": [
        "type(vetor1)"
      ],
      "metadata": {
        "colab": {
          "base_uri": "https://localhost:8080/"
        },
        "id": "3pSap2A96tLr",
        "outputId": "e642e71f-5606-4be0-fa91-03902a76f6d6"
      },
      "execution_count": 2,
      "outputs": [
        {
          "output_type": "execute_result",
          "data": {
            "text/plain": [
              "numpy.ndarray"
            ]
          },
          "metadata": {},
          "execution_count": 2
        }
      ]
    },
    {
      "cell_type": "code",
      "source": [
        "vetor1.dtype #mostra o tipo do vetor"
      ],
      "metadata": {
        "colab": {
          "base_uri": "https://localhost:8080/"
        },
        "id": "kPHStVgj-vmp",
        "outputId": "e0e7d703-5459-48bd-ed9e-d5435569e68b"
      },
      "execution_count": 3,
      "outputs": [
        {
          "output_type": "execute_result",
          "data": {
            "text/plain": [
              "dtype('int64')"
            ]
          },
          "metadata": {},
          "execution_count": 3
        }
      ]
    },
    {
      "cell_type": "code",
      "source": [
        "vetor2 = np.array([2.5, 3.8, 5.9]) #cria um vetor float"
      ],
      "metadata": {
        "id": "U48zyBc2-28o"
      },
      "execution_count": 4,
      "outputs": []
    },
    {
      "cell_type": "code",
      "source": [
        "vetor2.dtype"
      ],
      "metadata": {
        "colab": {
          "base_uri": "https://localhost:8080/"
        },
        "id": "P1a3rZkt_ClA",
        "outputId": "fd830c17-2b75-429e-b824-91bd761c99aa"
      },
      "execution_count": 5,
      "outputs": [
        {
          "output_type": "execute_result",
          "data": {
            "text/plain": [
              "dtype('float64')"
            ]
          },
          "metadata": {},
          "execution_count": 5
        }
      ]
    },
    {
      "cell_type": "code",
      "source": [
        "vetor3 = np.array(['Ana', 'Marcelo', 'Gustavo']) #cria um vetor de string"
      ],
      "metadata": {
        "id": "mQtqKhOa_FTg"
      },
      "execution_count": 6,
      "outputs": []
    },
    {
      "cell_type": "code",
      "source": [
        "vetor3.dtype"
      ],
      "metadata": {
        "colab": {
          "base_uri": "https://localhost:8080/"
        },
        "id": "JE26l5GB__Jj",
        "outputId": "93499fa8-0d2a-4036-bede-561310a75624"
      },
      "execution_count": 7,
      "outputs": [
        {
          "output_type": "execute_result",
          "data": {
            "text/plain": [
              "dtype('<U7')"
            ]
          },
          "metadata": {},
          "execution_count": 7
        }
      ]
    },
    {
      "cell_type": "code",
      "source": [
        "vet1 = np.array([1,2,3])\n",
        "vet2 = np.array([4,5,6])"
      ],
      "metadata": {
        "id": "zZpIRMF3ADJr"
      },
      "execution_count": 10,
      "outputs": []
    },
    {
      "cell_type": "code",
      "source": [
        "#ALGUMAS OPERAÇÕES ARITMÉTICAS COM VETORES\n",
        "\n",
        "vet1 + vet2 #soma os elementos dos dois vetores"
      ],
      "metadata": {
        "colab": {
          "base_uri": "https://localhost:8080/"
        },
        "id": "qqivxZS8AccQ",
        "outputId": "9e4ecfc7-c9b4-4ef0-be90-7c8da1ff7f61"
      },
      "execution_count": 11,
      "outputs": [
        {
          "output_type": "execute_result",
          "data": {
            "text/plain": [
              "array([5, 7, 9])"
            ]
          },
          "metadata": {},
          "execution_count": 11
        }
      ]
    },
    {
      "cell_type": "code",
      "source": [
        "print(vet1 * 2) #multiplica os elementos por 2"
      ],
      "metadata": {
        "colab": {
          "base_uri": "https://localhost:8080/"
        },
        "id": "gls_NHuAAo_4",
        "outputId": "a6fa72a7-daac-46f7-920b-680a07027f43"
      },
      "execution_count": 12,
      "outputs": [
        {
          "output_type": "stream",
          "name": "stdout",
          "text": [
            "[2 4 6]\n"
          ]
        }
      ]
    },
    {
      "cell_type": "code",
      "source": [
        "vet1"
      ],
      "metadata": {
        "colab": {
          "base_uri": "https://localhost:8080/"
        },
        "id": "grVyKwoIBBCQ",
        "outputId": "05e305fa-4d1a-4bf7-a6ee-b7d099a6dcf0"
      },
      "execution_count": 13,
      "outputs": [
        {
          "output_type": "execute_result",
          "data": {
            "text/plain": [
              "array([1, 2, 3])"
            ]
          },
          "metadata": {},
          "execution_count": 13
        }
      ]
    },
    {
      "cell_type": "code",
      "source": [
        "vet1[1] = 50 #sobrepõe o valor da posição"
      ],
      "metadata": {
        "id": "E7KMsxCyBEQn"
      },
      "execution_count": 14,
      "outputs": []
    },
    {
      "cell_type": "code",
      "source": [
        "vet1"
      ],
      "metadata": {
        "colab": {
          "base_uri": "https://localhost:8080/"
        },
        "id": "644DIllTBuOn",
        "outputId": "6b860c27-6cb8-41a7-b190-d07e1b53426f"
      },
      "execution_count": 15,
      "outputs": [
        {
          "output_type": "execute_result",
          "data": {
            "text/plain": [
              "array([ 1, 50,  3])"
            ]
          },
          "metadata": {},
          "execution_count": 15
        }
      ]
    },
    {
      "cell_type": "code",
      "source": [
        "vet1.sort() #coloca o vetor em ordem crescente"
      ],
      "metadata": {
        "id": "OCFYt_c1BvIg"
      },
      "execution_count": 16,
      "outputs": []
    },
    {
      "cell_type": "code",
      "source": [
        "vet1"
      ],
      "metadata": {
        "colab": {
          "base_uri": "https://localhost:8080/"
        },
        "id": "ItNMguskCF0g",
        "outputId": "21dcb824-f729-4faf-e9db-b98745e8e0e1"
      },
      "execution_count": 17,
      "outputs": [
        {
          "output_type": "execute_result",
          "data": {
            "text/plain": [
              "array([ 1,  3, 50])"
            ]
          },
          "metadata": {},
          "execution_count": 17
        }
      ]
    },
    {
      "cell_type": "code",
      "source": [
        "del vet1 #apaga o vetor inteiro da memória"
      ],
      "metadata": {
        "id": "vU5ZXidRCGjo"
      },
      "execution_count": 18,
      "outputs": []
    },
    {
      "cell_type": "code",
      "source": [
        "#CRIAR UM VETOR COM ARANGE()\n",
        "\n",
        "vetor = np.arange(10) #cria um vetor com 10 números consecutivos"
      ],
      "metadata": {
        "id": "5X_FcvyvCNFX"
      },
      "execution_count": 19,
      "outputs": []
    },
    {
      "cell_type": "code",
      "source": [
        "vetor"
      ],
      "metadata": {
        "colab": {
          "base_uri": "https://localhost:8080/"
        },
        "id": "zC4eUqc3Cb6L",
        "outputId": "fa3b5062-dfa9-48ba-b6ca-1cd7b8330680"
      },
      "execution_count": 20,
      "outputs": [
        {
          "output_type": "execute_result",
          "data": {
            "text/plain": [
              "array([0, 1, 2, 3, 4, 5, 6, 7, 8, 9])"
            ]
          },
          "metadata": {},
          "execution_count": 20
        }
      ]
    },
    {
      "cell_type": "code",
      "source": [
        "#CRIAR UM VETOR COM NÙMEROS ALEATÓRIOS\n",
        "\n",
        "import random\n",
        "\n",
        "vetor2 = np.random.randint(100, size=(10)) #cria um vetor com 10 números aleatórios na faixa de 0 a 100"
      ],
      "metadata": {
        "id": "dn4-63yaCc5Q"
      },
      "execution_count": 24,
      "outputs": []
    },
    {
      "cell_type": "code",
      "source": [
        "vetor2"
      ],
      "metadata": {
        "colab": {
          "base_uri": "https://localhost:8080/"
        },
        "id": "SRaXmJKrC1-P",
        "outputId": "8754fd40-0aae-4c33-9a48-a4837d1d8367"
      },
      "execution_count": 25,
      "outputs": [
        {
          "output_type": "execute_result",
          "data": {
            "text/plain": [
              "array([21, 36, 54, 56, 69, 12, 98, 71, 48, 19])"
            ]
          },
          "metadata": {},
          "execution_count": 25
        }
      ]
    },
    {
      "cell_type": "code",
      "source": [
        "#ALGUMAS FUNÇÕES DOS VETORES \n",
        "\n",
        "np.max(vetor2) #retorna o maior do vetor"
      ],
      "metadata": {
        "colab": {
          "base_uri": "https://localhost:8080/"
        },
        "id": "M62wb4doDIWw",
        "outputId": "0ce8875b-67dc-4308-cbc1-19afa1d54cf7"
      },
      "execution_count": 26,
      "outputs": [
        {
          "output_type": "execute_result",
          "data": {
            "text/plain": [
              "98"
            ]
          },
          "metadata": {},
          "execution_count": 26
        }
      ]
    },
    {
      "cell_type": "code",
      "source": [
        "np.min(vetor2) #retorna o menor do vetor"
      ],
      "metadata": {
        "colab": {
          "base_uri": "https://localhost:8080/"
        },
        "id": "TKSmMDEXDTdJ",
        "outputId": "937c6d6b-5181-4731-e17b-9fd623fabdc3"
      },
      "execution_count": 27,
      "outputs": [
        {
          "output_type": "execute_result",
          "data": {
            "text/plain": [
              "12"
            ]
          },
          "metadata": {},
          "execution_count": 27
        }
      ]
    },
    {
      "cell_type": "code",
      "source": [
        "np.mean(vetor2) #retorna a média dos valores do vetor"
      ],
      "metadata": {
        "colab": {
          "base_uri": "https://localhost:8080/"
        },
        "id": "XIU-fULmDlt4",
        "outputId": "943c8c82-9d03-462a-b0f6-e1efc9491fbd"
      },
      "execution_count": 28,
      "outputs": [
        {
          "output_type": "execute_result",
          "data": {
            "text/plain": [
              "48.4"
            ]
          },
          "metadata": {},
          "execution_count": 28
        }
      ]
    },
    {
      "cell_type": "code",
      "source": [
        "np.sum(vetor2) #retorna a soma dos valores do vetor"
      ],
      "metadata": {
        "colab": {
          "base_uri": "https://localhost:8080/"
        },
        "id": "ulC9yAfMDuHH",
        "outputId": "34c3bb0f-6b7a-4a70-a385-e7fb20ee1a4f"
      },
      "execution_count": 29,
      "outputs": [
        {
          "output_type": "execute_result",
          "data": {
            "text/plain": [
              "484"
            ]
          },
          "metadata": {},
          "execution_count": 29
        }
      ]
    },
    {
      "cell_type": "code",
      "source": [
        "#PARA CRIAR UM VETOR VAZIO \n",
        "\n",
        "vetor3 = np.empty(5) #cria um vetor vazio com 5 posições"
      ],
      "metadata": {
        "id": "IjUTU9IwD1UH"
      },
      "execution_count": 30,
      "outputs": []
    },
    {
      "cell_type": "code",
      "source": [
        "vetor3"
      ],
      "metadata": {
        "colab": {
          "base_uri": "https://localhost:8080/"
        },
        "id": "wYqvpVGeEJQX",
        "outputId": "8b47caf2-50dc-47ed-b1e3-67bca01299b6"
      },
      "execution_count": 31,
      "outputs": [
        {
          "output_type": "execute_result",
          "data": {
            "text/plain": [
              "array([1., 1., 1., 1., 1.])"
            ]
          },
          "metadata": {},
          "execution_count": 31
        }
      ]
    },
    {
      "cell_type": "code",
      "source": [
        "vetor3[0] = 89\n",
        "vetor3[1] = 18\n",
        "vetor3[2] = 36\n",
        "vetor3[3] = 12\n",
        "vetor3[4] = 65"
      ],
      "metadata": {
        "id": "-2UpJ6DEEK0v"
      },
      "execution_count": 32,
      "outputs": []
    },
    {
      "cell_type": "code",
      "source": [
        "vetor3"
      ],
      "metadata": {
        "colab": {
          "base_uri": "https://localhost:8080/"
        },
        "id": "kWaeCdi6EeXX",
        "outputId": "89428786-1bcc-437f-838b-2aeecf7a87a7"
      },
      "execution_count": 33,
      "outputs": [
        {
          "output_type": "execute_result",
          "data": {
            "text/plain": [
              "array([89., 18., 36., 12., 65.])"
            ]
          },
          "metadata": {},
          "execution_count": 33
        }
      ]
    },
    {
      "cell_type": "code",
      "source": [
        "#CARREGANDO UM VETOR PELO TECLADO\n",
        "\n",
        "valores = np.empty(5)\n",
        "for i in range(5):\n",
        "  valores[i] = input('Número: ')\n",
        "\n",
        "print(valores)"
      ],
      "metadata": {
        "colab": {
          "base_uri": "https://localhost:8080/"
        },
        "id": "VCPnyvcCEfdz",
        "outputId": "9a9566a9-920f-4d75-8580-e6c3c4b1f7dc"
      },
      "execution_count": 34,
      "outputs": [
        {
          "output_type": "stream",
          "name": "stdout",
          "text": [
            "Número: 4\n",
            "Número: 54\n",
            "Número: 23\n",
            "Número: 76\n",
            "Número: 34\n",
            "[ 4. 54. 23. 76. 34.]\n"
          ]
        }
      ]
    },
    {
      "cell_type": "markdown",
      "source": [
        "**MATRIZES**"
      ],
      "metadata": {
        "id": "RcgCAYNSE5QH"
      }
    },
    {
      "cell_type": "code",
      "source": [
        "matriz = np.array([[1,2,3],[4,5,6]])"
      ],
      "metadata": {
        "id": "GbgNlcEjE0nP"
      },
      "execution_count": 35,
      "outputs": []
    },
    {
      "cell_type": "code",
      "source": [
        "matriz"
      ],
      "metadata": {
        "colab": {
          "base_uri": "https://localhost:8080/"
        },
        "id": "3CnerfK8FM7w",
        "outputId": "dc240441-7787-49a7-ccc2-b2e1bd0a24d1"
      },
      "execution_count": 36,
      "outputs": [
        {
          "output_type": "execute_result",
          "data": {
            "text/plain": [
              "array([[1, 2, 3],\n",
              "       [4, 5, 6]])"
            ]
          },
          "metadata": {},
          "execution_count": 36
        }
      ]
    },
    {
      "cell_type": "code",
      "source": [
        "matriz.shape # retorna a dimensão da matriz"
      ],
      "metadata": {
        "colab": {
          "base_uri": "https://localhost:8080/"
        },
        "id": "1Q0ta903FN0H",
        "outputId": "7504dc62-4778-4698-d1f4-ced00bb91371"
      },
      "execution_count": 37,
      "outputs": [
        {
          "output_type": "execute_result",
          "data": {
            "text/plain": [
              "(2, 3)"
            ]
          },
          "metadata": {},
          "execution_count": 37
        }
      ]
    },
    {
      "cell_type": "code",
      "source": [
        "matriz[0,1] #retorna o valor da linha 0 e coluna 1"
      ],
      "metadata": {
        "colab": {
          "base_uri": "https://localhost:8080/"
        },
        "id": "9_NLD42UFWTT",
        "outputId": "e8dba19c-c7cb-49b4-ca0c-2cb289aa46f1"
      },
      "execution_count": 38,
      "outputs": [
        {
          "output_type": "execute_result",
          "data": {
            "text/plain": [
              "2"
            ]
          },
          "metadata": {},
          "execution_count": 38
        }
      ]
    },
    {
      "cell_type": "markdown",
      "source": [
        "**CRIANDO MATRIZES ESPECÍFICAS**"
      ],
      "metadata": {
        "id": "SOTN_deBFhi9"
      }
    },
    {
      "cell_type": "code",
      "source": [
        "#MATRIZ IDENTIDADE\n",
        "\n",
        "I = np.eye(5)\n",
        "print(I)"
      ],
      "metadata": {
        "colab": {
          "base_uri": "https://localhost:8080/"
        },
        "id": "lYv0grsBFdbf",
        "outputId": "059e4451-1f0d-4710-83b0-402ee02be22e"
      },
      "execution_count": 39,
      "outputs": [
        {
          "output_type": "stream",
          "name": "stdout",
          "text": [
            "[[1. 0. 0. 0. 0.]\n",
            " [0. 1. 0. 0. 0.]\n",
            " [0. 0. 1. 0. 0.]\n",
            " [0. 0. 0. 1. 0.]\n",
            " [0. 0. 0. 0. 1.]]\n"
          ]
        }
      ]
    },
    {
      "cell_type": "code",
      "source": [
        "#MATRIZ DIAGONAL\n",
        "\n",
        "D = np.diag(np.arange(5))\n",
        "print(D)"
      ],
      "metadata": {
        "colab": {
          "base_uri": "https://localhost:8080/"
        },
        "id": "nbRtwh5JFyHH",
        "outputId": "87a23378-b28d-4b8f-9791-13b66db24634"
      },
      "execution_count": 40,
      "outputs": [
        {
          "output_type": "stream",
          "name": "stdout",
          "text": [
            "[[0 0 0 0 0]\n",
            " [0 1 0 0 0]\n",
            " [0 0 2 0 0]\n",
            " [0 0 0 3 0]\n",
            " [0 0 0 0 4]]\n"
          ]
        }
      ]
    },
    {
      "cell_type": "code",
      "source": [
        "#MATRIZ DE ZEROS\n",
        "\n",
        "Z = np.zeros([3,3])\n",
        "print(Z)"
      ],
      "metadata": {
        "colab": {
          "base_uri": "https://localhost:8080/"
        },
        "id": "MPjRWfxpGIPo",
        "outputId": "bddef11c-db8d-4b74-b6a3-4d677d2f18f7"
      },
      "execution_count": 41,
      "outputs": [
        {
          "output_type": "stream",
          "name": "stdout",
          "text": [
            "[[0. 0. 0.]\n",
            " [0. 0. 0.]\n",
            " [0. 0. 0.]]\n"
          ]
        }
      ]
    },
    {
      "cell_type": "code",
      "source": [
        "#MATRIZ DE UNS\n",
        "\n",
        "U = np.ones([3,3])\n",
        "print(U)"
      ],
      "metadata": {
        "colab": {
          "base_uri": "https://localhost:8080/"
        },
        "id": "s4vlqO-lGW1X",
        "outputId": "c50e4f9d-6668-44c4-f45a-5b2f83ea3d1e"
      },
      "execution_count": 42,
      "outputs": [
        {
          "output_type": "stream",
          "name": "stdout",
          "text": [
            "[[1. 1. 1.]\n",
            " [1. 1. 1.]\n",
            " [1. 1. 1.]]\n"
          ]
        }
      ]
    },
    {
      "cell_type": "code",
      "source": [
        "#GERANDO UMA MATRIZ COM NÚMEROS ALEATÓRIOS\n",
        "\n",
        "matriz = np.random.randint(100, size=(2,3))\n",
        "print(matriz)"
      ],
      "metadata": {
        "colab": {
          "base_uri": "https://localhost:8080/"
        },
        "id": "diUceZ9HGp53",
        "outputId": "bec8772d-a877-4e2c-b4d7-cdbe8efda4a4"
      },
      "execution_count": 43,
      "outputs": [
        {
          "output_type": "stream",
          "name": "stdout",
          "text": [
            "[[80 41 51]\n",
            " [76 53 94]]\n"
          ]
        }
      ]
    },
    {
      "cell_type": "code",
      "source": [],
      "metadata": {
        "id": "Ca60knNLG9fX"
      },
      "execution_count": null,
      "outputs": []
    }
  ]
}