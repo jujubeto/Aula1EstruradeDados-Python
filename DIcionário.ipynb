{
  "nbformat": 4,
  "nbformat_minor": 0,
  "metadata": {
    "colab": {
      "provenance": []
    },
    "kernelspec": {
      "name": "python3",
      "display_name": "Python 3"
    },
    "language_info": {
      "name": "python"
    }
  },
  "cells": [
    {
      "cell_type": "markdown",
      "source": [
        "DICIONÁRIOS EM PYTHON\n",
        "São estruturas que armazenam sempre um par de dados chamados por chave e valor. Para criarmos um\n",
        "Dicionário usamos as chaves { }"
      ],
      "metadata": {
        "id": "8FEF0BfhH01K"
      }
    },
    {
      "cell_type": "code",
      "execution_count": 1,
      "metadata": {
        "id": "stzdQsmEAv5z"
      },
      "outputs": [],
      "source": [
        "pessoas = {'Laura':18, 'Eduardo':32, 'Ana':40, 'Mariana':25}"
      ]
    },
    {
      "cell_type": "code",
      "source": [
        "type(pessoas)"
      ],
      "metadata": {
        "colab": {
          "base_uri": "https://localhost:8080/"
        },
        "id": "B8eklrNLH-rX",
        "outputId": "0515dcf8-53df-4746-fcdf-d00d18cd67cf"
      },
      "execution_count": 2,
      "outputs": [
        {
          "output_type": "execute_result",
          "data": {
            "text/plain": [
              "dict"
            ]
          },
          "metadata": {},
          "execution_count": 2
        }
      ]
    },
    {
      "cell_type": "code",
      "source": [
        "pessoas"
      ],
      "metadata": {
        "colab": {
          "base_uri": "https://localhost:8080/"
        },
        "id": "yX8OSWiHICzy",
        "outputId": "4ca6e18e-5d26-4a49-c86a-badfa3ee853f"
      },
      "execution_count": 3,
      "outputs": [
        {
          "output_type": "execute_result",
          "data": {
            "text/plain": [
              "{'Laura': 18, 'Eduardo': 32, 'Ana': 40, 'Mariana': 25}"
            ]
          },
          "metadata": {},
          "execution_count": 3
        }
      ]
    },
    {
      "cell_type": "code",
      "source": [
        "pessoas['Eduardo']"
      ],
      "metadata": {
        "colab": {
          "base_uri": "https://localhost:8080/"
        },
        "id": "KUFt9TIlIEiC",
        "outputId": "ba4d19da-af19-4d87-eb27-d8cdb2c1246c"
      },
      "execution_count": 4,
      "outputs": [
        {
          "output_type": "execute_result",
          "data": {
            "text/plain": [
              "32"
            ]
          },
          "metadata": {},
          "execution_count": 4
        }
      ]
    },
    {
      "cell_type": "code",
      "source": [
        "pessoas.keys() #retorna as chaves do dicionário"
      ],
      "metadata": {
        "colab": {
          "base_uri": "https://localhost:8080/"
        },
        "id": "VheAFgwfNynZ",
        "outputId": "e0fa82a6-4b58-419f-92f1-4c3e61d1b5c0"
      },
      "execution_count": 5,
      "outputs": [
        {
          "output_type": "execute_result",
          "data": {
            "text/plain": [
              "dict_keys(['Laura', 'Eduardo', 'Ana', 'Mariana'])"
            ]
          },
          "metadata": {},
          "execution_count": 5
        }
      ]
    },
    {
      "cell_type": "code",
      "source": [
        "pessoas.values() # retorna os valores das chaves"
      ],
      "metadata": {
        "colab": {
          "base_uri": "https://localhost:8080/"
        },
        "id": "ga8v4Q5eN52B",
        "outputId": "3c3ed1d5-482d-4ada-c0dd-0f37a84f87cb"
      },
      "execution_count": 6,
      "outputs": [
        {
          "output_type": "execute_result",
          "data": {
            "text/plain": [
              "dict_values([18, 32, 40, 25])"
            ]
          },
          "metadata": {},
          "execution_count": 6
        }
      ]
    },
    {
      "cell_type": "code",
      "source": [
        "pessoas.items() #retorna todas as chaves e valores"
      ],
      "metadata": {
        "colab": {
          "base_uri": "https://localhost:8080/"
        },
        "id": "J8Uez9bVN-xQ",
        "outputId": "4b26365a-bad7-4a11-fbc7-b9dce91366d1"
      },
      "execution_count": 7,
      "outputs": [
        {
          "output_type": "execute_result",
          "data": {
            "text/plain": [
              "dict_items([('Laura', 18), ('Eduardo', 32), ('Ana', 40), ('Mariana', 25)])"
            ]
          },
          "metadata": {},
          "execution_count": 7
        }
      ]
    },
    {
      "cell_type": "code",
      "source": [
        "pessoas['Leonardo'] = 30 #insere um novo par (chave/valor)\n",
        "print(pessoas)"
      ],
      "metadata": {
        "colab": {
          "base_uri": "https://localhost:8080/"
        },
        "id": "tdqpieAYOGoJ",
        "outputId": "592dd9a1-230a-4eab-8151-ab417ff02012"
      },
      "execution_count": 8,
      "outputs": [
        {
          "output_type": "stream",
          "name": "stdout",
          "text": [
            "{'Laura': 18, 'Eduardo': 32, 'Ana': 40, 'Mariana': 25, 'Leonardo': 30}\n"
          ]
        }
      ]
    },
    {
      "cell_type": "code",
      "source": [
        "pessoas['Ana'] = 64 #altera o valor da chave ana"
      ],
      "metadata": {
        "id": "2tx-R8t8Oxq8"
      },
      "execution_count": 9,
      "outputs": []
    },
    {
      "cell_type": "code",
      "source": [
        "pessoas"
      ],
      "metadata": {
        "colab": {
          "base_uri": "https://localhost:8080/"
        },
        "id": "jkjf3GD8O55o",
        "outputId": "ea3a2def-5e28-42c3-e77f-f7042d7e0790"
      },
      "execution_count": 10,
      "outputs": [
        {
          "output_type": "execute_result",
          "data": {
            "text/plain": [
              "{'Laura': 18, 'Eduardo': 32, 'Ana': 64, 'Mariana': 25, 'Leonardo': 30}"
            ]
          },
          "metadata": {},
          "execution_count": 10
        }
      ]
    },
    {
      "cell_type": "code",
      "source": [
        "del pessoas['Mariana'] #apaga a chave indicada"
      ],
      "metadata": {
        "id": "yvygsDg5O7yo"
      },
      "execution_count": 11,
      "outputs": []
    },
    {
      "cell_type": "code",
      "source": [
        "pessoas"
      ],
      "metadata": {
        "colab": {
          "base_uri": "https://localhost:8080/"
        },
        "id": "niu2nNQhPnYp",
        "outputId": "927ddbc2-0f52-4c9f-f1c7-64f821f6451e"
      },
      "execution_count": 12,
      "outputs": [
        {
          "output_type": "execute_result",
          "data": {
            "text/plain": [
              "{'Laura': 18, 'Eduardo': 32, 'Ana': 64, 'Leonardo': 30}"
            ]
          },
          "metadata": {},
          "execution_count": 12
        }
      ]
    },
    {
      "cell_type": "code",
      "source": [
        "#imprimindo os dados do dicionário\n",
        "for k,v in pessoas.items():\n",
        "  print(f'{k} tem {v} anos')\n"
      ],
      "metadata": {
        "colab": {
          "base_uri": "https://localhost:8080/"
        },
        "id": "7tQXrphoPo-p",
        "outputId": "86f3a981-7a61-4272-9373-439249e6f40a"
      },
      "execution_count": 13,
      "outputs": [
        {
          "output_type": "stream",
          "name": "stdout",
          "text": [
            "Laura tem 18 anos\n",
            "Eduardo tem 32 anos\n",
            "Ana tem 64 anos\n",
            "Leonardo tem 30 anos\n"
          ]
        }
      ]
    },
    {
      "cell_type": "code",
      "source": [
        "#CARREGANDO UM DICIONÁRIO PELO TECLADO\n",
        "\n",
        "dados = dict() #cria um dicionário vazio\n",
        "\n",
        "dados = {} #cria um dicionário vazio\n",
        "\n",
        "dados['nome'] = input('Nome: ')\n",
        "dados['idade'] = input('Idade: ')\n",
        "dados['salário'] = float(input('Salário: '))\n",
        "\n",
        "for x,y in dados.items():\n",
        "  print(f'{x}: {y}')"
      ],
      "metadata": {
        "colab": {
          "base_uri": "https://localhost:8080/"
        },
        "id": "3CyvNgavP3rI",
        "outputId": "39f60a49-8f9e-4713-abb2-18e3a19c2e15"
      },
      "execution_count": 14,
      "outputs": [
        {
          "output_type": "stream",
          "name": "stdout",
          "text": [
            "Nome: gil\n",
            "Idade: 19\n",
            "Salário: 0\n",
            "nome: gil\n",
            "idade: 19\n",
            "salário: 0.0\n"
          ]
        }
      ]
    },
    {
      "cell_type": "code",
      "source": [
        "cadastro = {'nome':'Fernanda','profissao':'Advogada','sexo':'F','idade':'32'}"
      ],
      "metadata": {
        "id": "5jIUmbEKRRr_"
      },
      "execution_count": 15,
      "outputs": []
    },
    {
      "cell_type": "code",
      "source": [
        "for k,v in cadastro.items():\n",
        "  print(f'{k} = {v}')\n"
      ],
      "metadata": {
        "colab": {
          "base_uri": "https://localhost:8080/"
        },
        "id": "RUJnVUNhgpQw",
        "outputId": "e36fd87c-ca21-466b-f023-302563a327ad"
      },
      "execution_count": 16,
      "outputs": [
        {
          "output_type": "stream",
          "name": "stdout",
          "text": [
            "nome = Fernanda\n",
            "profissao = Advogada\n",
            "sexo = F\n",
            "idade = 32\n"
          ]
        }
      ]
    },
    {
      "cell_type": "markdown",
      "source": [
        "CARREGANDO DICIONÁRIOS EM UMA LISTA"
      ],
      "metadata": {
        "id": "2VAKAJHDijlS"
      }
    },
    {
      "cell_type": "code",
      "source": [
        "estados1 = {'uf':'Sao Paulo','sigla':'SP'}\n",
        "estados2 = {'uf':'Rio de Janeiro','sigla':'RJ'}\n",
        "\n",
        "brasil = [] #cria uma lista vazia\n",
        "\n",
        "brasil.append(estados1) #insere o dicionário \"estados1\" na lista brasil\n",
        "brasil.append(estados2) #insere o dicionário \"estados2\" na lista brasil\n",
        "\n",
        "print(estados1)\n",
        "print(estados2)\n",
        "print(brasil)"
      ],
      "metadata": {
        "colab": {
          "base_uri": "https://localhost:8080/"
        },
        "id": "Lp-LyPaZg1xQ",
        "outputId": "acde658d-7a86-4a84-8149-0006a4e939ce"
      },
      "execution_count": 17,
      "outputs": [
        {
          "output_type": "stream",
          "name": "stdout",
          "text": [
            "{'uf': 'Sao Paulo', 'sigla': 'SP'}\n",
            "{'uf': 'Rio de Janeiro', 'sigla': 'RJ'}\n",
            "[{'uf': 'Sao Paulo', 'sigla': 'SP'}, {'uf': 'Rio de Janeiro', 'sigla': 'RJ'}]\n"
          ]
        }
      ]
    },
    {
      "cell_type": "markdown",
      "source": [
        "PROBLEMAS COM O APPEND() NO DICIONÁRIO"
      ],
      "metadata": {
        "id": "hpQzjSH7k0lT"
      }
    },
    {
      "cell_type": "code",
      "source": [
        "estado = dict() #cria um dicionário vazio\n",
        "brasil = list() #cria uma lista vazia\n",
        "\n",
        "for c in range(3):\n",
        "  estado['uf'] = input('UF: ')\n",
        "  estado['sigla'] = input('Sigla: ')\n",
        "  brasil.append(estado)\n",
        "\n",
        "print(brasil)  "
      ],
      "metadata": {
        "colab": {
          "base_uri": "https://localhost:8080/"
        },
        "id": "_aEuiJkPjTya",
        "outputId": "2d870199-cc41-4cea-c85b-ef6e922dd710"
      },
      "execution_count": 19,
      "outputs": [
        {
          "output_type": "stream",
          "name": "stdout",
          "text": [
            "UF: Sao paulo\n",
            "Sigla: SP\n",
            "UF: Rio de Janeiro\n",
            "Sigla: RJ\n",
            "UF: Espirito Santo\n",
            "Sigla: ES\n",
            "[{'uf': 'Espirito Santo', 'sigla': 'ES'}, {'uf': 'Espirito Santo', 'sigla': 'ES'}, {'uf': 'Espirito Santo', 'sigla': 'ES'}]\n"
          ]
        }
      ]
    },
    {
      "cell_type": "markdown",
      "source": [
        "RESOLVENDO O PROBLEMA DO APPEND( )\n"
      ],
      "metadata": {
        "id": "7J1SZ6JdlzeK"
      }
    },
    {
      "cell_type": "code",
      "source": [
        "estado = dict() #cria um dicionário vazio\n",
        "brasil = list() #cria uma lista vazia\n",
        "for c in range(3):\n",
        "  estado['uf'] = input('UF: ')\n",
        "  estado['sigla'] = input('Sigla: ')\n",
        "  brasil.append(estado.copy()) #faz uma cópia do dicionário a cada inserção"
      ],
      "metadata": {
        "colab": {
          "base_uri": "https://localhost:8080/"
        },
        "id": "LWh-JvkxlUbK",
        "outputId": "390094e6-a6fd-4c2e-890d-5fba24aea0f7"
      },
      "execution_count": 20,
      "outputs": [
        {
          "name": "stdout",
          "output_type": "stream",
          "text": [
            "UF: Sao paulo\n",
            "Sigla: SP\n",
            "UF: Rio de Janeiro\n",
            "Sigla: RJ\n",
            "UF: Espirito Santo\n",
            "Sigla: ES\n"
          ]
        }
      ]
    },
    {
      "cell_type": "code",
      "source": [
        "print(brasil)"
      ],
      "metadata": {
        "colab": {
          "base_uri": "https://localhost:8080/"
        },
        "id": "pQ8Wb3wSnbGY",
        "outputId": "481fa374-8008-4d53-db83-6495713270fb"
      },
      "execution_count": 21,
      "outputs": [
        {
          "output_type": "stream",
          "name": "stdout",
          "text": [
            "[{'uf': 'Sao paulo', 'sigla': 'SP'}, {'uf': 'Rio de Janeiro', 'sigla': 'RJ'}, {'uf': 'Espirito Santo', 'sigla': 'ES'}]\n"
          ]
        }
      ]
    },
    {
      "cell_type": "markdown",
      "source": [
        "ITERANDO A LISTA E O DICIONÁRIO"
      ],
      "metadata": {
        "id": "NIYBtRSuoGeJ"
      }
    },
    {
      "cell_type": "code",
      "source": [
        "for est in brasil: #esse for é da lista\n",
        "  for k,v in est.items(): #esse fir é do dicionário\n",
        "    print(f'{k} = {v}')"
      ],
      "metadata": {
        "colab": {
          "base_uri": "https://localhost:8080/"
        },
        "id": "beeNwKtmnogp",
        "outputId": "351f0a83-d160-4d75-e8ee-f9632ed7f1b9"
      },
      "execution_count": 22,
      "outputs": [
        {
          "output_type": "stream",
          "name": "stdout",
          "text": [
            "uf = Sao paulo\n",
            "sigla = SP\n",
            "uf = Rio de Janeiro\n",
            "sigla = RJ\n",
            "uf = Espirito Santo\n",
            "sigla = ES\n"
          ]
        }
      ]
    },
    {
      "cell_type": "markdown",
      "source": [
        "USANDO O GET() NO DICIONÁRIO\n"
      ],
      "metadata": {
        "id": "rBFUdQbZowhk"
      }
    },
    {
      "cell_type": "code",
      "source": [
        "pessoas = {'Larissa':19, 'Manuela':21, 'Cristiane':39}"
      ],
      "metadata": {
        "id": "CPAuKxc_oo8h"
      },
      "execution_count": 23,
      "outputs": []
    },
    {
      "cell_type": "code",
      "source": [
        "pessoas.get('Manuela') #retorna o valor, se existir"
      ],
      "metadata": {
        "colab": {
          "base_uri": "https://localhost:8080/"
        },
        "id": "fOpDUyhYo-qJ",
        "outputId": "0ea95842-927f-4c4e-bf12-7c329ad147f2"
      },
      "execution_count": 25,
      "outputs": [
        {
          "output_type": "execute_result",
          "data": {
            "text/plain": [
              "21"
            ]
          },
          "metadata": {},
          "execution_count": 25
        }
      ]
    },
    {
      "cell_type": "code",
      "source": [
        "if pessoas.get('Manuela'):\n",
        "  print('Contato existe!')\n",
        "else:\n",
        "  pessoas['Manuela'] = 45  "
      ],
      "metadata": {
        "colab": {
          "base_uri": "https://localhost:8080/"
        },
        "id": "Gr0njDPMpFHZ",
        "outputId": "33551a55-7aeb-4fcc-9ee2-64da51d91f77"
      },
      "execution_count": 26,
      "outputs": [
        {
          "output_type": "stream",
          "name": "stdout",
          "text": [
            "Contato existe!\n"
          ]
        }
      ]
    },
    {
      "cell_type": "code",
      "source": [
        "if pessoas.get('Mané'):\n",
        "  print('Contato existente!')\n",
        "else:\n",
        "  pessoas['Manuela'] = 45 "
      ],
      "metadata": {
        "id": "Yw9ndZfFpfah"
      },
      "execution_count": 27,
      "outputs": []
    },
    {
      "cell_type": "code",
      "source": [
        "pessoas"
      ],
      "metadata": {
        "colab": {
          "base_uri": "https://localhost:8080/"
        },
        "id": "9lykFutppwlQ",
        "outputId": "7ab16b92-315e-47d2-e3ee-9eb9177026b6"
      },
      "execution_count": 28,
      "outputs": [
        {
          "output_type": "execute_result",
          "data": {
            "text/plain": [
              "{'Larissa': 19, 'Manuela': 45, 'Cristiane': 39}"
            ]
          },
          "metadata": {},
          "execution_count": 28
        }
      ]
    },
    {
      "cell_type": "code",
      "source": [],
      "metadata": {
        "id": "6eerqaa3pxlw"
      },
      "execution_count": null,
      "outputs": []
    }
  ]
}