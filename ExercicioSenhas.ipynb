{
  "nbformat": 4,
  "nbformat_minor": 0,
  "metadata": {
    "colab": {
      "provenance": []
    },
    "kernelspec": {
      "name": "python3",
      "display_name": "Python 3"
    },
    "language_info": {
      "name": "python"
    }
  },
  "cells": [
    {
      "cell_type": "markdown",
      "source": [
        "Exercicio-Senhas"
      ],
      "metadata": {
        "id": "sbdcfW3c26lG"
      }
    },
    {
      "cell_type": "code",
      "execution_count": 6,
      "metadata": {
        "colab": {
          "base_uri": "https://localhost:8080/"
        },
        "id": "WiDExzHZ25zM",
        "outputId": "2c1b2855-4f6c-4b23-8301-03703c24b009"
      },
      "outputs": [
        {
          "output_type": "stream",
          "name": "stdout",
          "text": [
            "1 - Emitir senha\n",
            "2 - Mostrar senha\n",
            "3 - Chamar senha\n",
            "4 - Sair\n",
            "Escolha sua opção: 1\n",
            "\n",
            "Fila de senhas: [425]\n",
            "\n",
            "1 - Emitir senha\n",
            "2 - Mostrar senha\n",
            "3 - Chamar senha\n",
            "4 - Sair\n",
            "Escolha sua opção: 1\n",
            "\n",
            "Fila de senhas: [425, 240]\n",
            "\n",
            "1 - Emitir senha\n",
            "2 - Mostrar senha\n",
            "3 - Chamar senha\n",
            "4 - Sair\n",
            "Escolha sua opção: 1\n",
            "\n",
            "Fila de senhas: [425, 240, 436]\n",
            "\n",
            "1 - Emitir senha\n",
            "2 - Mostrar senha\n",
            "3 - Chamar senha\n",
            "4 - Sair\n",
            "Escolha sua opção: 2\n",
            "\n",
            "Senhas: [425, 240, 436]\n",
            "\n",
            "1 - Emitir senha\n",
            "2 - Mostrar senha\n",
            "3 - Chamar senha\n",
            "4 - Sair\n",
            "Escolha sua opção: 3\n",
            "Proxima senha: 425\n",
            "Fila de senhas atualizada: [240, 436]\n",
            "\n",
            "1 - Emitir senha\n",
            "2 - Mostrar senha\n",
            "3 - Chamar senha\n",
            "4 - Sair\n",
            "Escolha sua opção: 4\n",
            "Programa finalizado! \n"
          ]
        }
      ],
      "source": [
        "senhas = []\n",
        "import random\n",
        "\n",
        "while True:\n",
        "  print('1 - Emitir senha\\n2 - Mostrar senha\\n3 - Chamar senha\\n4 - Sair')\n",
        "  opcao = int(input('Escolha sua opção: '))\n",
        "\n",
        "  if opcao == 1:\n",
        "    senhas.append(random.randint(100, 500))\n",
        "    print()\n",
        "    print(f'Fila de senhas: {senhas}')\n",
        "    print()\n",
        "  elif opcao == 2:\n",
        "    print()\n",
        "    print(f'Senhas: {senhas}')\n",
        "    print()\n",
        "  elif opcao == 3:\n",
        "    print(f'Proxima senha: {senhas[0]}')\n",
        "    del senhas[0]\n",
        "    print(f'Fila de senhas atualizada: {senhas}')\n",
        "    print()\n",
        "  elif opcao == 4:\n",
        "    print('Programa finalizado! ')\n",
        "    break\n",
        "    print()\n",
        "  else: \n",
        "    print('\\nOpção inválida!\\n')      "
      ]
    }
  ]
}