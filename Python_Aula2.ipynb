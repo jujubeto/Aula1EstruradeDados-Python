{
  "nbformat": 4,
  "nbformat_minor": 0,
  "metadata": {
    "colab": {
      "provenance": []
    },
    "kernelspec": {
      "name": "python3",
      "display_name": "Python 3"
    },
    "language_info": {
      "name": "python"
    }
  },
  "cells": [
    {
      "cell_type": "markdown",
      "source": [
        "COMANDO FOR - LAÇO DE REPETIÇÃO\n",
        "SINTAXE:\n",
        "for in <faixa de repetição>: instruções..."
      ],
      "metadata": {
        "id": "jnJpKhR9-vwh"
      }
    },
    {
      "cell_type": "code",
      "execution_count": 1,
      "metadata": {
        "colab": {
          "base_uri": "https://localhost:8080/"
        },
        "id": "Wqjvd2nz-qS9",
        "outputId": "f22a1238-6a71-4a83-f561-e8b290e57247"
      },
      "outputs": [
        {
          "output_type": "stream",
          "name": "stdout",
          "text": [
            "Python\n",
            "Python\n",
            "Python\n",
            "Python\n",
            "Python\n"
          ]
        }
      ],
      "source": [
        "for contador in range(5):\n",
        "  print('Python')"
      ]
    },
    {
      "cell_type": "code",
      "source": [
        "for contador in range(5):\n",
        "  print(contador)"
      ],
      "metadata": {
        "colab": {
          "base_uri": "https://localhost:8080/"
        },
        "id": "Ps1ZJ8Es_ANQ",
        "outputId": "25b0ffd1-70b5-4f98-e8df-90c0bd438608"
      },
      "execution_count": 2,
      "outputs": [
        {
          "output_type": "stream",
          "name": "stdout",
          "text": [
            "0\n",
            "1\n",
            "2\n",
            "3\n",
            "4\n"
          ]
        }
      ]
    },
    {
      "cell_type": "code",
      "source": [
        "for contador in range(5):\n",
        "  print('Python')\n",
        "  print('chocolate')"
      ],
      "metadata": {
        "colab": {
          "base_uri": "https://localhost:8080/"
        },
        "id": "YnlkIFag_IWh",
        "outputId": "1167e1d3-e2e1-4cc3-d11c-9a259f771032"
      },
      "execution_count": 3,
      "outputs": [
        {
          "output_type": "stream",
          "name": "stdout",
          "text": [
            "Python\n",
            "chocolate\n",
            "Python\n",
            "chocolate\n",
            "Python\n",
            "chocolate\n",
            "Python\n",
            "chocolate\n",
            "Python\n",
            "chocolate\n"
          ]
        }
      ]
    },
    {
      "cell_type": "code",
      "source": [
        "for contador in range(5):\n",
        "  print('Python')\n",
        "print('chocolate')  "
      ],
      "metadata": {
        "colab": {
          "base_uri": "https://localhost:8080/"
        },
        "id": "4Lqdzlb8_WTA",
        "outputId": "3c3fd06c-84ec-4130-f383-32641f32baab"
      },
      "execution_count": 4,
      "outputs": [
        {
          "output_type": "stream",
          "name": "stdout",
          "text": [
            "Python\n",
            "Python\n",
            "Python\n",
            "Python\n",
            "Python\n",
            "chocolate\n"
          ]
        }
      ]
    },
    {
      "cell_type": "code",
      "source": [
        "a = 20\n",
        "\n",
        "for contador in range(a):\n",
        "  print('Python')"
      ],
      "metadata": {
        "colab": {
          "base_uri": "https://localhost:8080/"
        },
        "id": "R_Nyaq-g_czg",
        "outputId": "37a1f036-0a61-43fc-dab1-00c1a52e286a"
      },
      "execution_count": 5,
      "outputs": [
        {
          "output_type": "stream",
          "name": "stdout",
          "text": [
            "Python\n",
            "Python\n",
            "Python\n",
            "Python\n",
            "Python\n",
            "Python\n",
            "Python\n",
            "Python\n",
            "Python\n",
            "Python\n",
            "Python\n",
            "Python\n",
            "Python\n",
            "Python\n",
            "Python\n",
            "Python\n",
            "Python\n",
            "Python\n",
            "Python\n",
            "Python\n"
          ]
        }
      ]
    },
    {
      "cell_type": "code",
      "source": [
        "texto = 'computador'\n",
        "\n",
        "for contador in texto:\n",
        "  print('Python')"
      ],
      "metadata": {
        "colab": {
          "base_uri": "https://localhost:8080/"
        },
        "id": "PMXx4dQg_lqb",
        "outputId": "6e3a93e0-06a9-4a62-d4cf-866269d02669"
      },
      "execution_count": 7,
      "outputs": [
        {
          "output_type": "stream",
          "name": "stdout",
          "text": [
            "Python\n",
            "Python\n",
            "Python\n",
            "Python\n",
            "Python\n",
            "Python\n",
            "Python\n",
            "Python\n",
            "Python\n",
            "Python\n"
          ]
        }
      ]
    },
    {
      "cell_type": "code",
      "source": [
        "texto = 'computador'\n",
        "for contador in texto:\n",
        "  print(contador, end='')"
      ],
      "metadata": {
        "colab": {
          "base_uri": "https://localhost:8080/"
        },
        "id": "nPoC39s9_zv4",
        "outputId": "9c6464f7-79f3-480f-dab1-ddf63a9f5ce8"
      },
      "execution_count": 9,
      "outputs": [
        {
          "output_type": "stream",
          "name": "stdout",
          "text": [
            "computador"
          ]
        }
      ]
    },
    {
      "cell_type": "markdown",
      "source": [
        "WHILE(ENQUANTO) - LAÇO DE REPETIÇÃO"
      ],
      "metadata": {
        "id": "W-4xQ9qcATkM"
      }
    },
    {
      "cell_type": "code",
      "source": [
        "cont = 0 #variavel auxiliar\n",
        "\n",
        "while cont<10:\n",
        "  cont = cont + 1 #soma 1 na variavel cont\n",
        "  print('Python')"
      ],
      "metadata": {
        "colab": {
          "base_uri": "https://localhost:8080/"
        },
        "id": "NHEA2qbgAGTY",
        "outputId": "0e78c0df-a88d-4392-c595-02ba4c28e618"
      },
      "execution_count": 11,
      "outputs": [
        {
          "output_type": "stream",
          "name": "stdout",
          "text": [
            "Python\n",
            "Python\n",
            "Python\n",
            "Python\n",
            "Python\n",
            "Python\n",
            "Python\n",
            "Python\n",
            "Python\n",
            "Python\n"
          ]
        }
      ]
    },
    {
      "cell_type": "code",
      "source": [
        "a = 0\n",
        "while a < 10:\n",
        "  a+=1\n",
        "\n",
        "  if a == 5:\n",
        "    print('Aula')\n",
        "    break\n",
        "print(a)    "
      ],
      "metadata": {
        "colab": {
          "base_uri": "https://localhost:8080/"
        },
        "id": "6n3YJzpUArxf",
        "outputId": "8928a4cb-de66-4f60-e0f2-ad60c2c705ca"
      },
      "execution_count": 13,
      "outputs": [
        {
          "output_type": "stream",
          "name": "stdout",
          "text": [
            "Aula\n",
            "5\n"
          ]
        }
      ]
    },
    {
      "cell_type": "code",
      "source": [
        "a = 0\n",
        "while True: #Loop infinito\n",
        "  if a == 0:\n",
        "    break"
      ],
      "metadata": {
        "id": "uVXXAg1hBA_Y"
      },
      "execution_count": 14,
      "outputs": []
    },
    {
      "cell_type": "code",
      "source": [
        "cont = 0\n",
        "\n",
        "while cont < 3:\n",
        "  cont +=1\n",
        "  nome = input('Nome: ')\n",
        "else:\n",
        "  print('FIM DO PROGRAMA!')  "
      ],
      "metadata": {
        "colab": {
          "base_uri": "https://localhost:8080/"
        },
        "id": "2Rz8iZWNBhKS",
        "outputId": "38e6ed81-e747-47eb-8db3-77793eeb4ead"
      },
      "execution_count": 15,
      "outputs": [
        {
          "output_type": "stream",
          "name": "stdout",
          "text": [
            "Nome: jubeto\n",
            "Nome: marcos\n",
            "Nome: fabio\n",
            "FIM DO PROGRAMA!\n"
          ]
        }
      ]
    },
    {
      "cell_type": "code",
      "source": [
        "cont = 0\n",
        "while cont < 5:\n",
        "  cont +=1\n",
        "  nome = input('Digite o nome ou 9 para sair: ')\n",
        "  if nome == '9':\n",
        "    break\n",
        "print('FIM DO PROGRAMA')    "
      ],
      "metadata": {
        "colab": {
          "base_uri": "https://localhost:8080/"
        },
        "id": "pq4K9lnBCHDw",
        "outputId": "f5e6fe4c-cd3b-4fb0-8690-bc7525bbb2e2"
      },
      "execution_count": 17,
      "outputs": [
        {
          "output_type": "stream",
          "name": "stdout",
          "text": [
            "Digite o nome ou 9 para sair: 9\n",
            "FIM DO PROGRAMA\n"
          ]
        }
      ]
    },
    {
      "cell_type": "code",
      "source": [
        "n1 = int(input('Numero1: '))\n",
        "n2 = int(input('Numero2: '))\n",
        "soma = n1 + n2\n",
        "print(f'A soma é {soma}')"
      ],
      "metadata": {
        "colab": {
          "base_uri": "https://localhost:8080/"
        },
        "id": "gZg-q_teCpfh",
        "outputId": "3ede9695-08af-4518-f42e-8fbc249eab50"
      },
      "execution_count": 18,
      "outputs": [
        {
          "output_type": "stream",
          "name": "stdout",
          "text": [
            "Numero1: 2\n",
            "Numero2: 2\n",
            "A soma é 4\n"
          ]
        }
      ]
    },
    {
      "cell_type": "code",
      "source": [
        "a = 10\n",
        "b = 5\n",
        "\n",
        "if a > 5 and b == 7:\n",
        "  print('gato')\n",
        "else:\n",
        "  print('cachorro')  "
      ],
      "metadata": {
        "colab": {
          "base_uri": "https://localhost:8080/"
        },
        "id": "pctYJKRLC73n",
        "outputId": "c578e370-ad2f-4b4e-af3c-090ebfc794f2"
      },
      "execution_count": 20,
      "outputs": [
        {
          "output_type": "stream",
          "name": "stdout",
          "text": [
            "cachorro\n"
          ]
        }
      ]
    },
    {
      "cell_type": "code",
      "source": [],
      "metadata": {
        "id": "IKCOJyU2DThA"
      },
      "execution_count": null,
      "outputs": []
    }
  ]
}